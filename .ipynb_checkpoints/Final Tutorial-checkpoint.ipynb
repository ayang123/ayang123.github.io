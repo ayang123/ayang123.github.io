{
 "cells": [
  {
   "cell_type": "markdown",
   "metadata": {},
   "source": [
    "# CMSC320 Alex Yang\n",
    "\n",
    "# Introduction - Who did Better in the First Presidential Debate 2012\n",
    "\n",
    "This project will be analyzing the First Presidential Debate of 2012 moderated by Jim Lehrer featuring former President Barack Obama and Mitt Romney. All of the debates took place at 9PM, where the first took place on the 3rd, the second on the 16th, and the third on the 22nd of October, 2012. For the first debate, it is said that Mitt Romney won that debate. \n",
    "\n",
    "This project will start by observing New York Times articles around the time period of the debates to see how the news portrays the debates.\n",
    "\n",
    "Then this project will take a look at a Twitter dataset for Tweets during the First Presidential Debate. This project will do a sentiment analysis on these tweets during the debate time frame to see which candidate seems to be winning.\n",
    "\n",
    "Finally, this project will also bring in a timestamped transcript from Youtube to see how efficiently the candidates used their time during the First Presidential Debate.\n",
    "\n",
    "A large portion of this project is cleaning the data, and some of the project is related to Machine Learning: Sentiment Analysis\n",
    "\n",
    "First import some libraries:"
   ]
  },
  {
   "cell_type": "code",
   "execution_count": 102,
   "metadata": {
    "collapsed": true
   },
   "outputs": [],
   "source": [
    "import requests\n",
    "import time\n",
    "import math"
   ]
  },
  {
   "cell_type": "markdown",
   "metadata": {},
   "source": [
    "# NYT\n",
    "\n",
    "### Getting Started\n",
    "\n",
    "Below is the New York Times API key that will be used for this project. \n",
    "\n",
    "Why do they go through the trouble of using keys? This is to identify people and their usage. In the sample request below, the header that is returned back has X-RateLimit-Limit-day and an X-RateLimit-Limit-second fields. These fields signify how many times you are allowed to access the server per day and how many times you can access the server per second. This is set to 1000 a day and one request per second. These fields are necessary to prevent people from overloading their servers.\n",
    "\n",
    "IMPORTANT: To see the remaining requests you could make with this API key, look at X-RateLimit-Remaining-day in the header\n",
    "If it exceeds 1000, they might contact me and I might have to pay money.\n",
    "\n",
    "Preferably, you would use your own API key to communicate with their server. To get an api key, please head to:\n",
    "https://developer.nytimes.com/\n",
    "and click the \"Get NYT API Key\" button. For the fields, I put in my name, email address, and for website, I put in IPython notebook since I did not have a website."
   ]
  },
  {
   "cell_type": "code",
   "execution_count": 2,
   "metadata": {
    "collapsed": true
   },
   "outputs": [],
   "source": [
    "api_key = '6c66c285820d4b0dbbccf2aaf73c5ccc'\n",
    "nytimesarticlesearchlink = 'http://api.nytimes.com/svc/search/v2/articlesearch.json?'"
   ]
  },
  {
   "cell_type": "markdown",
   "metadata": {},
   "source": [
    "Below is an example request to the New York Times."
   ]
  },
  {
   "cell_type": "code",
   "execution_count": 3,
   "metadata": {},
   "outputs": [
    {
     "data": {
      "text/plain": [
       "{'Content-Type': 'application/json;charset=UTF-8', 'Date': 'Fri, 15 Dec 2017 18:28:17 GMT', 'Server': 'nginx/1.10.2', 'Via': 'kong/0.9.5', 'X-Kong-Proxy-Latency': '41', 'X-Kong-Upstream-Latency': '247', 'X-RateLimit-Limit-day': '1000', 'X-RateLimit-Limit-second': '1', 'X-RateLimit-Remaining-day': '999', 'X-RateLimit-Remaining-second': '0', 'Content-Length': '19795', 'Connection': 'keep-alive'}"
      ]
     },
     "execution_count": 3,
     "metadata": {},
     "output_type": "execute_result"
    }
   ],
   "source": [
    "r = requests.get(nytimesarticlesearchlink + 'q=obama&begin_date=20120803&end_date=20120805&page=2&api-key=' + api_key)\n",
    "r.headers"
   ]
  },
  {
   "cell_type": "markdown",
   "metadata": {},
   "source": [
    "The text that is given back from your request will be in JSON format. For the New York Times, the number of hits means the number of articles that is found from the search query given by your request.\n",
    "\n",
    "Also note that even though you can see the number of hits or articles related to your query, the server only sends a page of 10 articles with the response. Therefore, to see the rest of the articles, you need to query the server for the other 6 pages in the example below."
   ]
  },
  {
   "cell_type": "code",
   "execution_count": 4,
   "metadata": {},
   "outputs": [
    {
     "data": {
      "text/plain": [
       "69"
      ]
     },
     "execution_count": 4,
     "metadata": {},
     "output_type": "execute_result"
    }
   ],
   "source": [
    "import json\n",
    "\n",
    "try:\n",
    "    jsonresp = json.loads(r.text)\n",
    "except:\n",
    "    print(r.status_code)\n",
    "    \n",
    "jsonresp['response']['meta']['hits']"
   ]
  },
  {
   "cell_type": "markdown",
   "metadata": {},
   "source": [
    "### Making the Requests\n",
    "\n",
    "Below, I have automated my requests towards the New York Times server using the makeNYTRequest function to get October 2012 articles with a given begin date and end date. In order to make sure that I do not exceed my X-RateLimi-Remaining-second, I will sleep for 2 seconds. Also, remember to put in the API key or else the query will not work. In addition, if there are more pages available, this function will request the additional pages."
   ]
  },
  {
   "cell_type": "code",
   "execution_count": 103,
   "metadata": {
    "collapsed": true
   },
   "outputs": [],
   "source": [
    "def makeNYTRequest(begin, end, query, requestsArray, retry, page=0):\n",
    "    \"\"\"makeNYTRequest takes in a begin and end which are the days of the month of October 2012 that will be queried.\n",
    "        Retry is used to make sure that when a server has a problem, you can resend the query once more to ask for\n",
    "        the page you want again (but at most once).\"\"\"\n",
    "    #fq = '&fq=headline:\"' + headline + '\"'\n",
    "    beg = '201210' + str(begin).zfill(2)\n",
    "    en = '201210' + str(end).zfill(2)\n",
    "    begin_date = '&begin_date=' + beg\n",
    "    end_date = '&end_date=' + en\n",
    "    api = '&api-key=' + api_key\n",
    "    pag = '&page=' + str(page)\n",
    "    request = query + begin_date + end_date + pag + api\n",
    "    #print(request)\n",
    "    r = requests.get(nytimesarticlesearchlink + request)\n",
    "    time.sleep(2)\n",
    "    if (r.status_code != 200 and retry == 0):\n",
    "        makeNYTRequest(begin, end, query, requestsArray, 1, page)\n",
    "    else:\n",
    "        try:\n",
    "            jsonresp = json.loads(r.text)\n",
    "            requestsArray.append(jsonresp)\n",
    "            if page == 0:\n",
    "                hits = jsonresp['response']['meta']['hits']\n",
    "                times = math.ceil((float(hits) - 10) / 10)\n",
    "                for x in range(1,1 + times):\n",
    "                    makeNYTRequest(begin, end, query, requestsArray, 0, x)\n",
    "        except:\n",
    "            print(r.status_code)"
   ]
  },
  {
   "cell_type": "markdown",
   "metadata": {},
   "source": [
    "Below, I am looking for articles for the first, second, and third Presidential Debates and storing them into arrays I will use them below to get the documents or articles."
   ]
  },
  {
   "cell_type": "code",
   "execution_count": 104,
   "metadata": {},
   "outputs": [
    {
     "name": "stdout",
     "output_type": "stream",
     "text": [
      "Finished Getting First Debate Articles\n",
      "Finished Getting Second Debate Articles\n",
      "Finished Getting Third Debate Articles\n"
     ]
    }
   ],
   "source": [
    "firstDebateArray = []\n",
    "secondDebateArray = []\n",
    "thirdDebateArray = []\n",
    "\n",
    "makeNYTRequest(3, 6, 'q=obama',firstDebateArray, 0)\n",
    "print(\"Finished Getting First Debate Articles\")\n",
    "makeNYTRequest(16, 19, 'q=obama',secondDebateArray, 0)\n",
    "print(\"Finished Getting Second Debate Articles\")\n",
    "makeNYTRequest(22, 25, 'q=obama',thirdDebateArray, 0)\n",
    "print(\"Finished Getting Third Debate Articles\")"
   ]
  },
  {
   "cell_type": "markdown",
   "metadata": {},
   "source": [
    "The responses before were only the pages that contains the documents or articles of the New York Times. Now, I will get all the documents and store them for later."
   ]
  },
  {
   "cell_type": "code",
   "execution_count": 28,
   "metadata": {
    "collapsed": true
   },
   "outputs": [],
   "source": [
    "firstDocs = []\n",
    "secondDocs = []\n",
    "thirdDocs = []\n",
    "\n",
    "def getDocs(debateArray, docsArray):\n",
    "    for x in range(0, len(debateArray)):\n",
    "        for y in range(0,len(debateArray[x]['response']['docs'])):\n",
    "            docsArray.append(debateArray[x]['response']['docs'][y])\n",
    "            \n",
    "getDocs(firstDebateArray, firstDocs)\n",
    "getDocs(secondDebateArray, secondDocs)\n",
    "getDocs(thirdDebateArray, thirdDocs)"
   ]
  },
  {
   "cell_type": "markdown",
   "metadata": {},
   "source": [
    "Below is an example document in JSON format. The most interesting parts of the document would be the headline, keywords, and publication date."
   ]
  },
  {
   "cell_type": "code",
   "execution_count": 29,
   "metadata": {},
   "outputs": [
    {
     "data": {
      "text/plain": [
       "{'_id': '507c4aba95e998af71185186',\n",
       " 'blog': {},\n",
       " 'byline': {'organization': None, 'original': None, 'person': None},\n",
       " 'document_type': 'article',\n",
       " 'headline': {'content_kicker': None,\n",
       "  'kicker': None,\n",
       "  'main': 'Jazz Listings for Oct. 5-11',\n",
       "  'name': None,\n",
       "  'print_headline': 'The Listings',\n",
       "  'seo': None,\n",
       "  'sub': None},\n",
       " 'keywords': [{'major': None, 'name': 'subject', 'rank': 1, 'value': 'Jazz'},\n",
       "  {'major': None, 'name': 'subject', 'rank': 2, 'value': 'Music'}],\n",
       " 'multimedia': [],\n",
       " 'new_desk': 'Weekend',\n",
       " 'print_page': '21',\n",
       " 'pub_date': '2012-10-05T00:00:00Z',\n",
       " 'score': 0.0,\n",
       " 'section_name': 'Music',\n",
       " 'snippet': 'A selected guide to jazz performances and festivals in New York.',\n",
       " 'source': 'The New York Times',\n",
       " 'type_of_material': 'Schedule',\n",
       " 'web_url': 'https://www.nytimes.com/2012/10/05/arts/music/jazz-listings-for-oct-5-11.html',\n",
       " 'word_count': 3451}"
      ]
     },
     "execution_count": 29,
     "metadata": {},
     "output_type": "execute_result"
    }
   ],
   "source": [
    "firstDocs[60]"
   ]
  },
  {
   "cell_type": "markdown",
   "metadata": {},
   "source": [
    "### Building A Table\n",
    "\n",
    "In order to make a pandas table, I will first take features of interest from all the documents while also categorizing them by debate number, putting them into arrays. Then I will turn these arrays into numpy arrays. Then I will create a table from the numpy arrays."
   ]
  },
  {
   "cell_type": "code",
   "execution_count": 30,
   "metadata": {
    "collapsed": true
   },
   "outputs": [],
   "source": [
    "import numpy as np\n",
    "\n",
    "debate = []\n",
    "urls = []\n",
    "dates = []\n",
    "headlines = []\n",
    "print_headlines = []\n",
    "keywords = []\n",
    "wcs = []\n",
    "def populateArrays(number, docs):\n",
    "    for x in range(0, len(docs)):\n",
    "        debate.append(number)\n",
    "        urls.append(docs[x]['web_url'])\n",
    "        dates.append(docs[x]['pub_date'])\n",
    "        headlines.append(docs[x]['headline']['main'])\n",
    "        print_headlines.append(docs[x]['headline']['print_headline'])\n",
    "        keywords.append(docs[x]['keywords'])\n",
    "        wcs.append(docs[x]['word_count'])\n",
    "        \n",
    "populateArrays(1,firstDocs)\n",
    "populateArrays(2,secondDocs)\n",
    "populateArrays(3,thirdDocs)"
   ]
  },
  {
   "cell_type": "code",
   "execution_count": 31,
   "metadata": {
    "collapsed": true
   },
   "outputs": [],
   "source": [
    "npdebate = np.asarray(debate)\n",
    "npurls = np.asarray(urls)\n",
    "npdates = np.asarray(dates)\n",
    "npheadlines = np.asarray(headlines)\n",
    "npprint = np.asarray(print_headlines)\n",
    "npkey = np.asarray(keywords)\n",
    "npwcs = np.asarray(wcs)"
   ]
  },
  {
   "cell_type": "code",
   "execution_count": 32,
   "metadata": {
    "collapsed": true
   },
   "outputs": [],
   "source": [
    "import pandas as pd\n",
    "from datetime import datetime, timedelta"
   ]
  },
  {
   "cell_type": "code",
   "execution_count": 34,
   "metadata": {},
   "outputs": [
    {
     "data": {
      "text/html": [
       "<div>\n",
       "<table border=\"1\" class=\"dataframe\">\n",
       "  <thead>\n",
       "    <tr style=\"text-align: right;\">\n",
       "      <th></th>\n",
       "      <th>dates</th>\n",
       "      <th>debate</th>\n",
       "      <th>headlines</th>\n",
       "      <th>key</th>\n",
       "      <th>print</th>\n",
       "      <th>urls</th>\n",
       "      <th>word_count</th>\n",
       "    </tr>\n",
       "  </thead>\n",
       "  <tbody>\n",
       "    <tr>\n",
       "      <th>0</th>\n",
       "      <td>2012-10-06T00:00:00Z</td>\n",
       "      <td>1</td>\n",
       "      <td>Sept. 30-Oct. 6: The Week of the First Debate</td>\n",
       "      <td>[{'name': 'subject', 'value': 'Presidential El...</td>\n",
       "      <td>None</td>\n",
       "      <td>https://www.nytimes.com/slideshow/2012/10/06/u...</td>\n",
       "      <td>24</td>\n",
       "    </tr>\n",
       "    <tr>\n",
       "      <th>1</th>\n",
       "      <td>2012-10-05T22:34:00+0000</td>\n",
       "      <td>1</td>\n",
       "      <td>Trading Beauty Secrets and Barbs</td>\n",
       "      <td>[{'name': 'subject', 'value': 'Television', 'r...</td>\n",
       "      <td>Trading Beauty Secrets and Barbs</td>\n",
       "      <td>https://www.nytimes.com/2012/10/06/arts/televi...</td>\n",
       "      <td>716</td>\n",
       "    </tr>\n",
       "    <tr>\n",
       "      <th>2</th>\n",
       "      <td>2012-10-06T00:00:00Z</td>\n",
       "      <td>1</td>\n",
       "      <td>For Woman in Senate Race, Uphill Fight for Fem...</td>\n",
       "      <td>[{'name': 'persons', 'value': 'McMahon, Linda ...</td>\n",
       "      <td>For Woman in Senate Race, Uphill Fight for Fem...</td>\n",
       "      <td>https://www.nytimes.com/2012/10/06/nyregion/fo...</td>\n",
       "      <td>1158</td>\n",
       "    </tr>\n",
       "    <tr>\n",
       "      <th>3</th>\n",
       "      <td>2012-10-06T00:00:00Z</td>\n",
       "      <td>1</td>\n",
       "      <td>Romney Claims of Bipartisanship as Governor Fa...</td>\n",
       "      <td>[{'name': 'persons', 'value': 'Romney, Mitt', ...</td>\n",
       "      <td>Bipartisan Claim Gets Closer Look</td>\n",
       "      <td>https://www.nytimes.com/2012/10/06/us/politics...</td>\n",
       "      <td>1436</td>\n",
       "    </tr>\n",
       "    <tr>\n",
       "      <th>4</th>\n",
       "      <td>2012-10-05T21:38:30+0000</td>\n",
       "      <td>1</td>\n",
       "      <td>Ready to Cheer? Well, Maybe Next Time</td>\n",
       "      <td>[{'name': 'subject', 'value': 'Presidential El...</td>\n",
       "      <td>Ready to Cheer? Well, Maybe Next Time</td>\n",
       "      <td>https://www.nytimes.com/2012/10/07/fashion/you...</td>\n",
       "      <td>760</td>\n",
       "    </tr>\n",
       "  </tbody>\n",
       "</table>\n",
       "</div>"
      ],
      "text/plain": [
       "                      dates  debate  \\\n",
       "0      2012-10-06T00:00:00Z       1   \n",
       "1  2012-10-05T22:34:00+0000       1   \n",
       "2      2012-10-06T00:00:00Z       1   \n",
       "3      2012-10-06T00:00:00Z       1   \n",
       "4  2012-10-05T21:38:30+0000       1   \n",
       "\n",
       "                                           headlines  \\\n",
       "0      Sept. 30-Oct. 6: The Week of the First Debate   \n",
       "1                   Trading Beauty Secrets and Barbs   \n",
       "2  For Woman in Senate Race, Uphill Fight for Fem...   \n",
       "3  Romney Claims of Bipartisanship as Governor Fa...   \n",
       "4              Ready to Cheer? Well, Maybe Next Time   \n",
       "\n",
       "                                                 key  \\\n",
       "0  [{'name': 'subject', 'value': 'Presidential El...   \n",
       "1  [{'name': 'subject', 'value': 'Television', 'r...   \n",
       "2  [{'name': 'persons', 'value': 'McMahon, Linda ...   \n",
       "3  [{'name': 'persons', 'value': 'Romney, Mitt', ...   \n",
       "4  [{'name': 'subject', 'value': 'Presidential El...   \n",
       "\n",
       "                                               print  \\\n",
       "0                                               None   \n",
       "1                   Trading Beauty Secrets and Barbs   \n",
       "2  For Woman in Senate Race, Uphill Fight for Fem...   \n",
       "3                  Bipartisan Claim Gets Closer Look   \n",
       "4              Ready to Cheer? Well, Maybe Next Time   \n",
       "\n",
       "                                                urls  word_count  \n",
       "0  https://www.nytimes.com/slideshow/2012/10/06/u...          24  \n",
       "1  https://www.nytimes.com/2012/10/06/arts/televi...         716  \n",
       "2  https://www.nytimes.com/2012/10/06/nyregion/fo...        1158  \n",
       "3  https://www.nytimes.com/2012/10/06/us/politics...        1436  \n",
       "4  https://www.nytimes.com/2012/10/07/fashion/you...         760  "
      ]
     },
     "execution_count": 34,
     "metadata": {},
     "output_type": "execute_result"
    }
   ],
   "source": [
    "df = pd.DataFrame({'debate':npdebate, 'dates':npdates, 'urls':npurls, 'headlines':npheadlines, 'print':npprint, 'key':npkey, 'word_count':npwcs})\n",
    "df.head()"
   ]
  },
  {
   "cell_type": "markdown",
   "metadata": {},
   "source": [
    "The Table above does not look clean. I will attempt to turn the dates into proper datetimes and order the keywords by their values for better understanding"
   ]
  },
  {
   "cell_type": "code",
   "execution_count": 35,
   "metadata": {},
   "outputs": [
    {
     "data": {
      "text/html": [
       "<div>\n",
       "<table border=\"1\" class=\"dataframe\">\n",
       "  <thead>\n",
       "    <tr style=\"text-align: right;\">\n",
       "      <th></th>\n",
       "      <th>dates</th>\n",
       "      <th>debate</th>\n",
       "      <th>headlines</th>\n",
       "      <th>key</th>\n",
       "      <th>print</th>\n",
       "      <th>urls</th>\n",
       "      <th>word_count</th>\n",
       "    </tr>\n",
       "  </thead>\n",
       "  <tbody>\n",
       "    <tr>\n",
       "      <th>0</th>\n",
       "      <td>2012-10-06</td>\n",
       "      <td>1</td>\n",
       "      <td>Sept. 30-Oct. 6: The Week of the First Debate</td>\n",
       "      <td>[Presidential Election of 2012, Romney, Mitt, ...</td>\n",
       "      <td>None</td>\n",
       "      <td>https://www.nytimes.com/slideshow/2012/10/06/u...</td>\n",
       "      <td>24</td>\n",
       "    </tr>\n",
       "    <tr>\n",
       "      <th>1</th>\n",
       "      <td>2012-10-05</td>\n",
       "      <td>1</td>\n",
       "      <td>Trading Beauty Secrets and Barbs</td>\n",
       "      <td>[Television, Lifetime Television, Scott, Jill,...</td>\n",
       "      <td>Trading Beauty Secrets and Barbs</td>\n",
       "      <td>https://www.nytimes.com/2012/10/06/arts/televi...</td>\n",
       "      <td>716</td>\n",
       "    </tr>\n",
       "    <tr>\n",
       "      <th>2</th>\n",
       "      <td>2012-10-06</td>\n",
       "      <td>1</td>\n",
       "      <td>For Woman in Senate Race, Uphill Fight for Fem...</td>\n",
       "      <td>[McMahon, Linda E, Elections, Senate, Murphy, ...</td>\n",
       "      <td>For Woman in Senate Race, Uphill Fight for Fem...</td>\n",
       "      <td>https://www.nytimes.com/2012/10/06/nyregion/fo...</td>\n",
       "      <td>1158</td>\n",
       "    </tr>\n",
       "    <tr>\n",
       "      <th>3</th>\n",
       "      <td>2012-10-06</td>\n",
       "      <td>1</td>\n",
       "      <td>Romney Claims of Bipartisanship as Governor Fa...</td>\n",
       "      <td>[Romney, Mitt, Presidential Election of 2012, ...</td>\n",
       "      <td>Bipartisan Claim Gets Closer Look</td>\n",
       "      <td>https://www.nytimes.com/2012/10/06/us/politics...</td>\n",
       "      <td>1436</td>\n",
       "    </tr>\n",
       "    <tr>\n",
       "      <th>4</th>\n",
       "      <td>2012-10-05</td>\n",
       "      <td>1</td>\n",
       "      <td>Ready to Cheer? Well, Maybe Next Time</td>\n",
       "      <td>[Presidential Election of 2012, Debates (Polit...</td>\n",
       "      <td>Ready to Cheer? Well, Maybe Next Time</td>\n",
       "      <td>https://www.nytimes.com/2012/10/07/fashion/you...</td>\n",
       "      <td>760</td>\n",
       "    </tr>\n",
       "  </tbody>\n",
       "</table>\n",
       "</div>"
      ],
      "text/plain": [
       "        dates  debate                                          headlines  \\\n",
       "0  2012-10-06       1      Sept. 30-Oct. 6: The Week of the First Debate   \n",
       "1  2012-10-05       1                   Trading Beauty Secrets and Barbs   \n",
       "2  2012-10-06       1  For Woman in Senate Race, Uphill Fight for Fem...   \n",
       "3  2012-10-06       1  Romney Claims of Bipartisanship as Governor Fa...   \n",
       "4  2012-10-05       1              Ready to Cheer? Well, Maybe Next Time   \n",
       "\n",
       "                                                 key  \\\n",
       "0  [Presidential Election of 2012, Romney, Mitt, ...   \n",
       "1  [Television, Lifetime Television, Scott, Jill,...   \n",
       "2  [McMahon, Linda E, Elections, Senate, Murphy, ...   \n",
       "3  [Romney, Mitt, Presidential Election of 2012, ...   \n",
       "4  [Presidential Election of 2012, Debates (Polit...   \n",
       "\n",
       "                                               print  \\\n",
       "0                                               None   \n",
       "1                   Trading Beauty Secrets and Barbs   \n",
       "2  For Woman in Senate Race, Uphill Fight for Fem...   \n",
       "3                  Bipartisan Claim Gets Closer Look   \n",
       "4              Ready to Cheer? Well, Maybe Next Time   \n",
       "\n",
       "                                                urls  word_count  \n",
       "0  https://www.nytimes.com/slideshow/2012/10/06/u...          24  \n",
       "1  https://www.nytimes.com/2012/10/06/arts/televi...         716  \n",
       "2  https://www.nytimes.com/2012/10/06/nyregion/fo...        1158  \n",
       "3  https://www.nytimes.com/2012/10/06/us/politics...        1436  \n",
       "4  https://www.nytimes.com/2012/10/07/fashion/you...         760  "
      ]
     },
     "execution_count": 35,
     "metadata": {},
     "output_type": "execute_result"
    }
   ],
   "source": [
    "for index, row in df.iterrows():\n",
    "    datestr = row['dates'][0:10]\n",
    "    dat = datetime.strptime(datestr, '%Y-%m-%d').date()\n",
    "    df.set_value(index, 'dates',dat)\n",
    "    \n",
    "    keywords = row['key']\n",
    "    arr = []\n",
    "\n",
    "    for x in keywords:\n",
    "        arr.append(x['value'])\n",
    "    df.set_value(index, 'key', arr)\n",
    "\n",
    "df.head()"
   ]
  },
  {
   "cell_type": "markdown",
   "metadata": {},
   "source": [
    "### NLTK and Sentiment Analysis\n",
    "\n",
    "What is NLTK? NLTK stands for Natural Language ToolKit. It is a python package used for human language data. Using NLTK, it is possible to do sentiment analysis to categorize language. Sentiment Analysis is the process of identifying attitude or opinion and categorizing them from a text. Usually, opinions can be categorized and expressed as either Positive, Negative, or Neutral. NLTK provides a vader package that will help with Sentiment Analysis. When it performs sentiment analysis on text, it will return positive, negative, neutral, and compound values. The compound score shows the sentiment intensity from -1 (negative) to 1 (positive). To do Sentiment Analysis with vader, use the polarity_scores function."
   ]
  },
  {
   "cell_type": "code",
   "execution_count": 36,
   "metadata": {},
   "outputs": [
    {
     "name": "stdout",
     "output_type": "stream",
     "text": [
      "Collecting nltk\n",
      "  Downloading nltk-3.2.5.tar.gz (1.2MB)\n",
      "\u001b[K    100% |████████████████████████████████| 1.2MB 447kB/s ta 0:00:01\n",
      "\u001b[?25hRequirement already satisfied: six in /opt/conda/lib/python3.6/site-packages (from nltk)\n",
      "Building wheels for collected packages: nltk\n",
      "  Running setup.py bdist_wheel for nltk ... \u001b[?25ldone\n",
      "\u001b[?25h  Stored in directory: /home/jovyan/.cache/pip/wheels/18/9c/1f/276bc3f421614062468cb1c9d695e6086d0c73d67ea363c501\n",
      "Successfully built nltk\n",
      "Installing collected packages: nltk\n",
      "Successfully installed nltk-3.2.5\n"
     ]
    },
    {
     "name": "stderr",
     "output_type": "stream",
     "text": [
      "/opt/conda/lib/python3.6/site-packages/nltk/twitter/__init__.py:20: UserWarning: The twython library has not been installed. Some functionality from the twitter package will not be available.\n",
      "  warnings.warn(\"The twython library has not been installed. \"\n"
     ]
    }
   ],
   "source": [
    "!pip install nltk\n",
    "import nltk\n",
    "from nltk.sentiment.vader import SentimentIntensityAnalyzer as SIA"
   ]
  },
  {
   "cell_type": "code",
   "execution_count": 37,
   "metadata": {},
   "outputs": [
    {
     "name": "stdout",
     "output_type": "stream",
     "text": [
      "[nltk_data] Downloading package vader_lexicon to\n",
      "[nltk_data]     /home/jovyan/nltk_data...\n",
      "[nltk_data] Downloading package stopwords to /home/jovyan/nltk_data...\n",
      "[nltk_data]   Unzipping corpora/stopwords.zip.\n"
     ]
    },
    {
     "data": {
      "text/plain": [
       "True"
      ]
     },
     "execution_count": 37,
     "metadata": {},
     "output_type": "execute_result"
    }
   ],
   "source": [
    "nltk.download('vader_lexicon')"
   ]
  },
  {
   "cell_type": "code",
   "execution_count": 38,
   "metadata": {
    "collapsed": true
   },
   "outputs": [],
   "source": [
    "sia = SIA()"
   ]
  },
  {
   "cell_type": "markdown",
   "metadata": {},
   "source": [
    "Now that I have downloaded and prepared all that I need for Sentiment Analysis, I will begin looking at the sentiment in the headlines of each article and record the compound, negative, neutral, and postive scores. To get this information, call the polarity_scores method within SentimentIntensityAnalyzer."
   ]
  },
  {
   "cell_type": "code",
   "execution_count": 40,
   "metadata": {},
   "outputs": [
    {
     "data": {
      "text/html": [
       "<div>\n",
       "<table border=\"1\" class=\"dataframe\">\n",
       "  <thead>\n",
       "    <tr style=\"text-align: right;\">\n",
       "      <th></th>\n",
       "      <th>dates</th>\n",
       "      <th>debate</th>\n",
       "      <th>headlines</th>\n",
       "      <th>key</th>\n",
       "      <th>print</th>\n",
       "      <th>urls</th>\n",
       "      <th>word_count</th>\n",
       "      <th>compound</th>\n",
       "      <th>neg</th>\n",
       "      <th>neu</th>\n",
       "      <th>pos</th>\n",
       "    </tr>\n",
       "  </thead>\n",
       "  <tbody>\n",
       "    <tr>\n",
       "      <th>0</th>\n",
       "      <td>2012-10-06</td>\n",
       "      <td>1</td>\n",
       "      <td>Sept. 30-Oct. 6: The Week of the First Debate</td>\n",
       "      <td>[Presidential Election of 2012, Romney, Mitt, ...</td>\n",
       "      <td>None</td>\n",
       "      <td>https://www.nytimes.com/slideshow/2012/10/06/u...</td>\n",
       "      <td>24</td>\n",
       "      <td>0.0000</td>\n",
       "      <td>0.000</td>\n",
       "      <td>1.000</td>\n",
       "      <td>0.000</td>\n",
       "    </tr>\n",
       "    <tr>\n",
       "      <th>1</th>\n",
       "      <td>2012-10-05</td>\n",
       "      <td>1</td>\n",
       "      <td>Trading Beauty Secrets and Barbs</td>\n",
       "      <td>[Television, Lifetime Television, Scott, Jill,...</td>\n",
       "      <td>Trading Beauty Secrets and Barbs</td>\n",
       "      <td>https://www.nytimes.com/2012/10/06/arts/televi...</td>\n",
       "      <td>716</td>\n",
       "      <td>0.5859</td>\n",
       "      <td>0.000</td>\n",
       "      <td>0.513</td>\n",
       "      <td>0.487</td>\n",
       "    </tr>\n",
       "    <tr>\n",
       "      <th>2</th>\n",
       "      <td>2012-10-06</td>\n",
       "      <td>1</td>\n",
       "      <td>For Woman in Senate Race, Uphill Fight for Fem...</td>\n",
       "      <td>[McMahon, Linda E, Elections, Senate, Murphy, ...</td>\n",
       "      <td>For Woman in Senate Race, Uphill Fight for Fem...</td>\n",
       "      <td>https://www.nytimes.com/2012/10/06/nyregion/fo...</td>\n",
       "      <td>1158</td>\n",
       "      <td>-0.3818</td>\n",
       "      <td>0.224</td>\n",
       "      <td>0.776</td>\n",
       "      <td>0.000</td>\n",
       "    </tr>\n",
       "    <tr>\n",
       "      <th>3</th>\n",
       "      <td>2012-10-06</td>\n",
       "      <td>1</td>\n",
       "      <td>Romney Claims of Bipartisanship as Governor Fa...</td>\n",
       "      <td>[Romney, Mitt, Presidential Election of 2012, ...</td>\n",
       "      <td>Bipartisan Claim Gets Closer Look</td>\n",
       "      <td>https://www.nytimes.com/2012/10/06/us/politics...</td>\n",
       "      <td>1436</td>\n",
       "      <td>0.0772</td>\n",
       "      <td>0.000</td>\n",
       "      <td>0.843</td>\n",
       "      <td>0.157</td>\n",
       "    </tr>\n",
       "    <tr>\n",
       "      <th>4</th>\n",
       "      <td>2012-10-05</td>\n",
       "      <td>1</td>\n",
       "      <td>Ready to Cheer? Well, Maybe Next Time</td>\n",
       "      <td>[Presidential Election of 2012, Debates (Polit...</td>\n",
       "      <td>Ready to Cheer? Well, Maybe Next Time</td>\n",
       "      <td>https://www.nytimes.com/2012/10/07/fashion/you...</td>\n",
       "      <td>760</td>\n",
       "      <td>0.7845</td>\n",
       "      <td>0.000</td>\n",
       "      <td>0.336</td>\n",
       "      <td>0.664</td>\n",
       "    </tr>\n",
       "  </tbody>\n",
       "</table>\n",
       "</div>"
      ],
      "text/plain": [
       "        dates  debate                                          headlines  \\\n",
       "0  2012-10-06       1      Sept. 30-Oct. 6: The Week of the First Debate   \n",
       "1  2012-10-05       1                   Trading Beauty Secrets and Barbs   \n",
       "2  2012-10-06       1  For Woman in Senate Race, Uphill Fight for Fem...   \n",
       "3  2012-10-06       1  Romney Claims of Bipartisanship as Governor Fa...   \n",
       "4  2012-10-05       1              Ready to Cheer? Well, Maybe Next Time   \n",
       "\n",
       "                                                 key  \\\n",
       "0  [Presidential Election of 2012, Romney, Mitt, ...   \n",
       "1  [Television, Lifetime Television, Scott, Jill,...   \n",
       "2  [McMahon, Linda E, Elections, Senate, Murphy, ...   \n",
       "3  [Romney, Mitt, Presidential Election of 2012, ...   \n",
       "4  [Presidential Election of 2012, Debates (Polit...   \n",
       "\n",
       "                                               print  \\\n",
       "0                                               None   \n",
       "1                   Trading Beauty Secrets and Barbs   \n",
       "2  For Woman in Senate Race, Uphill Fight for Fem...   \n",
       "3                  Bipartisan Claim Gets Closer Look   \n",
       "4              Ready to Cheer? Well, Maybe Next Time   \n",
       "\n",
       "                                                urls  word_count  compound  \\\n",
       "0  https://www.nytimes.com/slideshow/2012/10/06/u...          24    0.0000   \n",
       "1  https://www.nytimes.com/2012/10/06/arts/televi...         716    0.5859   \n",
       "2  https://www.nytimes.com/2012/10/06/nyregion/fo...        1158   -0.3818   \n",
       "3  https://www.nytimes.com/2012/10/06/us/politics...        1436    0.0772   \n",
       "4  https://www.nytimes.com/2012/10/07/fashion/you...         760    0.7845   \n",
       "\n",
       "     neg    neu    pos  \n",
       "0  0.000  1.000  0.000  \n",
       "1  0.000  0.513  0.487  \n",
       "2  0.224  0.776  0.000  \n",
       "3  0.000  0.843  0.157  \n",
       "4  0.000  0.336  0.664  "
      ]
     },
     "execution_count": 40,
     "metadata": {},
     "output_type": "execute_result"
    }
   ],
   "source": [
    "df2 = pd.DataFrame(data=df)\n",
    "for index, row in df2.iterrows():\n",
    "    head = row['headlines']\n",
    "    pol_score = sia.polarity_scores(head)\n",
    "    df2.set_value(index, 'compound', pol_score['compound'])\n",
    "    df2.set_value(index, 'neg', pol_score['neg'])\n",
    "    df2.set_value(index, 'neu', pol_score['neu'])\n",
    "    df2.set_value(index, 'pos', pol_score['pos'])\n",
    "    \n",
    "df2.head()"
   ]
  },
  {
   "cell_type": "markdown",
   "metadata": {},
   "source": [
    "I will filter the pandas dataframe so that only keywords with Obama, Romney, and the election appear. This is basically saying that I do not care whether the article has any mentions. I only want articles that highlight the importance between the candidates and the election. I will drop all other articles."
   ]
  },
  {
   "cell_type": "code",
   "execution_count": 64,
   "metadata": {
    "collapsed": true
   },
   "outputs": [],
   "source": [
    "df3 = pd.DataFrame(data=df2)\n",
    "u = False\n",
    "for index, row in df3.iterrows():\n",
    "    for x in row['key']:\n",
    "        if x == \"Obama, Barack\":\n",
    "            u = True\n",
    "    if (u == False):\n",
    "        df3.drop(index, inplace=True)\n",
    "    else:\n",
    "        u = False\n",
    "        \n",
    "df4 = pd.DataFrame(data=df2)\n",
    "u = False\n",
    "for index, row in df4.iterrows():\n",
    "    for x in row['key']:\n",
    "        if x == \"Romney, Mitt\":\n",
    "            u = True\n",
    "    if (u == False):\n",
    "        df4.drop(index, inplace=True)\n",
    "    else:\n",
    "        u = False"
   ]
  },
  {
   "cell_type": "markdown",
   "metadata": {},
   "source": [
    "### Plotting\n",
    "\n",
    "Below, I will plot a scatter plot that plots time on the x-axis and the sentiment of the headline on the y-axis."
   ]
  },
  {
   "cell_type": "code",
   "execution_count": 61,
   "metadata": {
    "collapsed": true
   },
   "outputs": [],
   "source": [
    "import matplotlib.pyplot as plt"
   ]
  },
  {
   "cell_type": "code",
   "execution_count": 66,
   "metadata": {},
   "outputs": [
    {
     "data": {
      "image/png": "[encoded data removed]",
      "text/plain": [
       "<matplotlib.figure.Figure at 0x7fcc2e175e80>"
      ]
     },
     "metadata": {},
     "output_type": "display_data"
    },
    {
     "data": {
      "image/png": "[encoded data removed]",
      "text/plain": [
       "<matplotlib.figure.Figure at 0x7fcc31315ac8>"
      ]
     },
     "metadata": {},
     "output_type": "display_data"
    }
   ],
   "source": [
    "def debateplot(t, number):\n",
    "    \"\"\"This function is used to see a mean for the sentiment of the headlines\"\"\"\n",
    "    x = [t[t['debate'] == number]['dates'].min() + timedelta(days=i) for i in range(4)]\n",
    "    d1 = t[t['dates'] == t[t['debate'] == number]['dates'].min()]['compound'].mean()\n",
    "    d2 = t[t['dates'] == t[t['debate'] == number]['dates'].min() + timedelta(days=1)]['compound'].mean()\n",
    "    d3 = t[t['dates'] == t[t['debate'] == number]['dates'].min() + timedelta(days=2)]['compound'].mean()\n",
    "    d4 = t[t['dates'] == t[t['debate'] == number]['dates'].min() + timedelta(days=3)]['compound'].mean()\n",
    "    y = [d1, d2, d3, d4]\n",
    "    plt.plot(x,y, label=\"Debate \" + str(number) + \" Mean\")\n",
    "\n",
    "def plotTable(table, name):\n",
    "    for index, row in table.iterrows():\n",
    "        area = np.pi*3\n",
    "        plt.scatter(row['dates'], row['compound'], s=area, c='#000000', alpha=0.5)\n",
    "    \n",
    "    for i in range(1,4):\n",
    "        debateplot(table, i)\n",
    "    plt.axis([table['dates'].min() - timedelta(days=1) ,table['dates'].max() + timedelta(days=1),-1,1])\n",
    "\n",
    "    x = [df3['dates'].min() + timedelta(days=i) for i in range(22)]\n",
    "    plt.plot(x,np.zeros(22), label=\"Neutral\")\n",
    "    legend = plt.legend(loc=\"best\")\n",
    "    plt.title('Sentiment Polarity Score for New York Times Headlines around the Three 2012 Pres Debates - ' + name)\n",
    "    plt.ylabel('Compounded Polarity Score')\n",
    "    plt.xticks(rotation=45)\n",
    "    plt.xlabel('Date of Publication')\n",
    "    plt.show()\n",
    "    \n",
    "plotTable(df3, 'Obama')\n",
    "plotTable(df4, 'Romney')"
   ]
  },
  {
   "cell_type": "markdown",
   "metadata": {},
   "source": [
    "The scatter plot above is the Sentiment Polarity Score for New York Times Headlines for all three 2012 Presidential Debates. From the plot above, it seems for the First Presidential Debate, the sentiment for the headlines for right after the debate for Romney is slightly higher than Obama's but tapers off the next day. However, after the debate, it can definitely be seen that the New York Times generally puts in a positive sentiment towards their headlines."
   ]
  },
  {
   "cell_type": "code",
   "execution_count": 67,
   "metadata": {
    "collapsed": true
   },
   "outputs": [],
   "source": [
    "plt.clf()"
   ]
  },
  {
   "cell_type": "markdown",
   "metadata": {},
   "source": [
    "# Twitter Data\n",
    "\n",
    "Next, I will be using Twitter data to look at the sentiment of Tweets that pop up during the First Presidential Debate. I will be using Peter Molnar's datasets on the past three months preceding the 2012 Presidential Election. The datasets can be found here in this link: https://old.datahub.io/dataset/twitter-2012-presidential-election\n",
    "\n",
    "Note: These datasets are extremely huge. The large datasets contain around 10 million tweets and are around 27 GB of data. To make life easier, the dataset that would be neede for this project is titled large-3.json. In addition, the json file starts out at September 30, so you need to go through half of the file first in order to reach the time period for the presidential debate. \n",
    "\n",
    "Another note: Although the time of the debate is 9PM, it is not in GMT so the date and time of the presidential debate is actually around 2AM on October 4th instead of the 3rd.\n",
    "\n",
    "Another note: Although this file is a JSON file, using json to load does not seem to work because of invalid characters so I will instead use Regular Expressions.\n",
    "\n",
    "Therefore, the most important part of the Tweet is the created_at field to be set at October 4th and starting around 2AM. It is also necessary to retrieve the text of the tweet.\n",
    "\n",
    "In addition, I need to filter out all noise. Only tweets that relate to Obama and Romney will be taken. I will therefore create four arrays dealing with dates and texts that relate to Obama and Romney."
   ]
  },
  {
   "cell_type": "code",
   "execution_count": 68,
   "metadata": {
    "collapsed": true
   },
   "outputs": [],
   "source": [
    "import re"
   ]
  },
  {
   "cell_type": "code",
   "execution_count": 70,
   "metadata": {
    "collapsed": true
   },
   "outputs": [],
   "source": [
    "createdpattern = \"\"\"\"created_at\":\"\"\"\n",
    "createdprog = re.compile(createdpattern)\n",
    "datepattern = \"\"\"Thu Oct 04\"\"\"\n",
    "dateprog = re.compile(datepattern)\n",
    "textpattern = \"\"\"\"text\":\".*?\",\"retweeted_status\":\"\"\"\n",
    "textprog = re.compile(textpattern)\n",
    "textpattern2 = '\"text\":\".*?\",\"'\n",
    "textprog2 = re.compile(textpattern2)\n",
    "textpattern3 = \"\"\"(mitt|romney|barack|obama)\"\"\"\n",
    "textprog3 = re.compile(textpattern3)\n",
    "obamapattern = \"\"\"(barack|obama)\"\"\"\n",
    "obamaprog = re.compile(obamapattern)\n",
    "romneypattern = \"\"\"(mitt|romney)\"\"\"\n",
    "romneyprog = re.compile(romneypattern)"
   ]
  },
  {
   "cell_type": "code",
   "execution_count": 71,
   "metadata": {
    "collapsed": true
   },
   "outputs": [],
   "source": [
    "import numpy as np\n",
    "\n",
    "obamadates = []\n",
    "obamatexts = []\n",
    "romneydates = []\n",
    "romneytexts = []"
   ]
  },
  {
   "cell_type": "markdown",
   "metadata": {},
   "source": [
    "Below is the getTweets function to look through the large amount of tweets in the JSON file. It will attempt to get create_at and text data from the tweets and categorize them by whether they have Obama or Romney in the text portion."
   ]
  },
  {
   "cell_type": "code",
   "execution_count": 72,
   "metadata": {
    "collapsed": true
   },
   "outputs": [],
   "source": [
    "def getTweets(num, number, skip=0):\n",
    "    \"\"\"getTweets function to uncover tweets we want in the JSON file\"\"\"\n",
    "    fileStr = \"large-\" + str(num) +\".json\"\n",
    "    with open(fileStr) as jsonfile:\n",
    "        if skip != 0:\n",
    "            \"\"\"skip amount of lines\"\"\"\n",
    "            for i in range(skip):\n",
    "                next(jsonfile)\n",
    "        for i in range(0,100000):\n",
    "            head = [next(jsonfile) for x in range(1)]\n",
    "            next(jsonfile)\n",
    "            strhead = str(head)\n",
    "            \"\"\"First take a look at the created_at field\"\"\"\n",
    "            result = createdprog.search(strhead)\n",
    "            if result:\n",
    "                end = int(result.end())\n",
    "                dat = strhead[end+1:end+31]\n",
    "                \"\"\"Taking a look at the date to see if it matches with what we want\"\"\"\n",
    "                result = dateprog.search(dat)\n",
    "                if result:\n",
    "                    strhead = strhead.lower()\n",
    "                    \"\"\"Taking a look to see if there is Obama or Romney anywhere in the tweet\"\"\"\n",
    "                    text = textprog3.search(strhead)\n",
    "                    if text:\n",
    "                        \"\"\"Trying to get the text portion of the tweet\"\"\"\n",
    "                        text = textprog.search(strhead)\n",
    "                        if text:\n",
    "                            start = int(text.start())\n",
    "                            end = int(text.end())\n",
    "                            theText = strhead[start + 8:end - 21]\n",
    "                        else:\n",
    "                            text = textprog2.search(strhead)\n",
    "                            if text:\n",
    "                                start = int(text.start())\n",
    "                                end = int(text.end())\n",
    "                                theText = strhead[start + 8:end - 3]\n",
    "                        \"\"\"Categorize by Obama or Romney tweet but not both\"\"\"\n",
    "                        success = obamaprog.search(theText)\n",
    "                        if success:\n",
    "                            success = romneyprog.search(theText)\n",
    "                            if not success:\n",
    "                                obamadates.append(dat)\n",
    "                                obamatexts.append(theText)\n",
    "                        else:\n",
    "                            success = romneyprog.search(theText)\n",
    "                            if success:\n",
    "                                romneydates.append(dat)\n",
    "                                romneytexts.append(theText)"
   ]
  },
  {
   "cell_type": "markdown",
   "metadata": {},
   "source": [
    "To make life easier, the tweets corresponding to the time when the First Presidential debate occurred is in large-3.json and you need to skip 5,082,000 lines in order to get to the October 4th, 2:00 AM tweets. "
   ]
  },
  {
   "cell_type": "code",
   "execution_count": 73,
   "metadata": {
    "collapsed": true
   },
   "outputs": [],
   "source": [
    "getTweets(3, 10000000, 5082000)"
   ]
  },
  {
   "cell_type": "markdown",
   "metadata": {},
   "source": [
    "### Creating the Tables\n",
    "\n",
    "I will take the dates and texts data for Obama and Romney and create two pandas tables corresponding to both of them. In addition, I will drop duplicates."
   ]
  },
  {
   "cell_type": "code",
   "execution_count": 75,
   "metadata": {
    "collapsed": true
   },
   "outputs": [],
   "source": [
    "\"\"\"Create the numpy arrays for pandas table below\"\"\"\n",
    "npobamadates = np.asarray(obamadates)\n",
    "npobamatexts = np.asarray(obamatexts)\n",
    "npromneydates = np.asarray(romneydates)\n",
    "npromneytexts = np.asarray(romneytexts)\n",
    "\n",
    "\"\"\"Creating the Obama and Romney Pandas table and drop duplicates\"\"\"\n",
    "obamadf = pd.DataFrame({'dates':npobamadates, 'texts':npobamatexts})\n",
    "romneydf = pd.DataFrame({'dates':npromneydates, 'texts':npromneytexts})\n",
    "obamadf = obamadf.drop_duplicates()\n",
    "romneydf = romneydf.drop_duplicates()"
   ]
  },
  {
   "cell_type": "code",
   "execution_count": 76,
   "metadata": {},
   "outputs": [
    {
     "data": {
      "text/html": [
       "<div>\n",
       "<table border=\"1\" class=\"dataframe\">\n",
       "  <thead>\n",
       "    <tr style=\"text-align: right;\">\n",
       "      <th></th>\n",
       "      <th>dates</th>\n",
       "      <th>texts</th>\n",
       "    </tr>\n",
       "  </thead>\n",
       "  <tbody>\n",
       "    <tr>\n",
       "      <th>0</th>\n",
       "      <td>Thu Oct 04 02:03:41 +0000 2012</td>\n",
       "      <td>obama face lmaooooooo http:\\\\/\\\\/t.co\\\\/ywo9rd...</td>\n",
       "    </tr>\n",
       "    <tr>\n",
       "      <th>1</th>\n",
       "      <td>Thu Oct 04 02:03:41 +0000 2012</td>\n",
       "      <td>those lines lehrer was feeding obama sucked! #...</td>\n",
       "    </tr>\n",
       "    <tr>\n",
       "      <th>2</th>\n",
       "      <td>Thu Oct 04 02:03:41 +0000 2012</td>\n",
       "      <td>i guess everyone voting for obama means they e...</td>\n",
       "    </tr>\n",
       "    <tr>\n",
       "      <th>3</th>\n",
       "      <td>Thu Oct 04 01:59:05 +0000 2012</td>\n",
       "      <td>lowkey obama gone whoop his ass after the debate.</td>\n",
       "    </tr>\n",
       "    <tr>\n",
       "      <th>4</th>\n",
       "      <td>Thu Oct 04 02:03:41 +0000 2012</td>\n",
       "      <td>yes obama call him out</td>\n",
       "    </tr>\n",
       "  </tbody>\n",
       "</table>\n",
       "</div>"
      ],
      "text/plain": [
       "                            dates  \\\n",
       "0  Thu Oct 04 02:03:41 +0000 2012   \n",
       "1  Thu Oct 04 02:03:41 +0000 2012   \n",
       "2  Thu Oct 04 02:03:41 +0000 2012   \n",
       "3  Thu Oct 04 01:59:05 +0000 2012   \n",
       "4  Thu Oct 04 02:03:41 +0000 2012   \n",
       "\n",
       "                                               texts  \n",
       "0  obama face lmaooooooo http:\\\\/\\\\/t.co\\\\/ywo9rd...  \n",
       "1  those lines lehrer was feeding obama sucked! #...  \n",
       "2  i guess everyone voting for obama means they e...  \n",
       "3  lowkey obama gone whoop his ass after the debate.  \n",
       "4                             yes obama call him out  "
      ]
     },
     "execution_count": 76,
     "metadata": {},
     "output_type": "execute_result"
    }
   ],
   "source": [
    "obamadf.head()"
   ]
  },
  {
   "cell_type": "code",
   "execution_count": 77,
   "metadata": {},
   "outputs": [
    {
     "data": {
      "text/html": [
       "<div>\n",
       "<table border=\"1\" class=\"dataframe\">\n",
       "  <thead>\n",
       "    <tr style=\"text-align: right;\">\n",
       "      <th></th>\n",
       "      <th>dates</th>\n",
       "      <th>texts</th>\n",
       "    </tr>\n",
       "  </thead>\n",
       "  <tbody>\n",
       "    <tr>\n",
       "      <th>0</th>\n",
       "      <td>Thu Oct 04 02:03:41 +0000 2012</td>\n",
       "      <td>rt @kalliko_: mitt romney\\'s first name is wil...</td>\n",
       "    </tr>\n",
       "    <tr>\n",
       "      <th>1</th>\n",
       "      <td>Thu Oct 04 02:03:41 +0000 2012</td>\n",
       "      <td>\\\\ud83d\\\\ude02\\\\ud83d\\\\ude02\\\\ud83d\\\\ude02 rt ...</td>\n",
       "    </tr>\n",
       "    <tr>\n",
       "      <th>2</th>\n",
       "      <td>Thu Oct 04 02:03:41 +0000 2012</td>\n",
       "      <td>mitt romney still messed up for talkin abt can...</td>\n",
       "    </tr>\n",
       "    <tr>\n",
       "      <th>3</th>\n",
       "      <td>Thu Oct 04 02:03:41 +0000 2012</td>\n",
       "      <td>lmfao! \\\\u201c@buyand_kell: when romney was ta...</td>\n",
       "    </tr>\n",
       "    <tr>\n",
       "      <th>4</th>\n",
       "      <td>Thu Oct 04 02:03:42 +0000 2012</td>\n",
       "      <td>c\\'mon romney, i know you want to, just drop t...</td>\n",
       "    </tr>\n",
       "  </tbody>\n",
       "</table>\n",
       "</div>"
      ],
      "text/plain": [
       "                            dates  \\\n",
       "0  Thu Oct 04 02:03:41 +0000 2012   \n",
       "1  Thu Oct 04 02:03:41 +0000 2012   \n",
       "2  Thu Oct 04 02:03:41 +0000 2012   \n",
       "3  Thu Oct 04 02:03:41 +0000 2012   \n",
       "4  Thu Oct 04 02:03:42 +0000 2012   \n",
       "\n",
       "                                               texts  \n",
       "0  rt @kalliko_: mitt romney\\'s first name is wil...  \n",
       "1  \\\\ud83d\\\\ude02\\\\ud83d\\\\ude02\\\\ud83d\\\\ude02 rt ...  \n",
       "2  mitt romney still messed up for talkin abt can...  \n",
       "3  lmfao! \\\\u201c@buyand_kell: when romney was ta...  \n",
       "4  c\\'mon romney, i know you want to, just drop t...  "
      ]
     },
     "execution_count": 77,
     "metadata": {},
     "output_type": "execute_result"
    }
   ],
   "source": [
    "romneydf.head()"
   ]
  },
  {
   "cell_type": "markdown",
   "metadata": {},
   "source": [
    "Above are samples of both of the tables.\n",
    "\n",
    "### More Sentiment Analysis\n",
    "\n",
    "Below are functions to replace the dates with datetime dates and to calculate polarity scores again. This time we will do Sentiment Analysis on Twitter text. The NLTK vader package is very suited for doing sentiment analysis on social media platforms like Twitter."
   ]
  },
  {
   "cell_type": "code",
   "execution_count": 78,
   "metadata": {
    "collapsed": true
   },
   "outputs": [],
   "source": [
    "def replacedates(df):\n",
    "    \"\"\"Create datetime dates for each table\"\"\"\n",
    "    for index, row in df.iterrows():\n",
    "        datestr = row['dates']\n",
    "        dt = datetime.strptime(datestr, '%a %b %d %H:%M:%S %z %Y').date()\n",
    "        tim = datetime.strptime(datestr, '%a %b %d %H:%M:%S %z %Y').time()\n",
    "        dat = datetime.combine(dt, tim)\n",
    "        df.set_value(index, 'dates',dat)\n",
    "    \n",
    "replacedates(obamadf)\n",
    "replacedates(romneydf)"
   ]
  },
  {
   "cell_type": "code",
   "execution_count": 79,
   "metadata": {
    "collapsed": true
   },
   "outputs": [],
   "source": [
    "obamadf2 = pd.DataFrame(data=obamadf)\n",
    "romneydf2 = pd.DataFrame(data=romneydf)\n",
    "\n",
    "def polarity_score(df):\n",
    "    for index, row in df.iterrows():\n",
    "        head = row['texts']\n",
    "        pol_score = sia.polarity_scores(head)\n",
    "        df.set_value(index, 'compound', pol_score['compound'])\n",
    "        df.set_value(index, 'neg', pol_score['neg'])\n",
    "        df.set_value(index, 'neu', pol_score['neu'])\n",
    "        df.set_value(index, 'pos', pol_score['pos'])\n",
    "\n",
    "polarity_score(obamadf2)\n",
    "polarity_score(romneydf2)"
   ]
  },
  {
   "cell_type": "markdown",
   "metadata": {},
   "source": [
    "### Plotting\n",
    "\n",
    "Taking a sample so that I can plot data. Too much data will either take too long or not plot at all.\n",
    "\n",
    "Also, since I am using datetime as the x-axis, I will need to import matplotlib.dates to accomodate."
   ]
  },
  {
   "cell_type": "code",
   "execution_count": 90,
   "metadata": {
    "collapsed": true
   },
   "outputs": [],
   "source": [
    "obamasample = obamadf2.sample(frac=1/30).reset_index(drop=True)\n",
    "romneysample = romneydf2.sample(frac=1/30).reset_index(drop=True)"
   ]
  },
  {
   "cell_type": "code",
   "execution_count": 84,
   "metadata": {
    "collapsed": true
   },
   "outputs": [],
   "source": [
    "import matplotlib.dates as mdates"
   ]
  },
  {
   "cell_type": "code",
   "execution_count": 91,
   "metadata": {},
   "outputs": [
    {
     "data": {
      "image/png": "[encoded data removed]",
      "text/plain": [
       "<matplotlib.figure.Figure at 0x7fcc2d9b6c88>"
      ]
     },
     "metadata": {},
     "output_type": "display_data"
    },
    {
     "data": {
      "image/png": "[encoded data removed]",
      "text/plain": [
       "<matplotlib.figure.Figure at 0x7fcc2e6536a0>"
      ]
     },
     "metadata": {},
     "output_type": "display_data"
    }
   ],
   "source": [
    "def scatter(sample, name):\n",
    "    \"\"\"Scatter Twitter data and Plot the Polarity sentiment\"\"\"\n",
    "    for index, row in sample.iterrows():\n",
    "        area = np.pi*3\n",
    "        plt.scatter(row['dates'], row['compound'], s=area, c='#000000', alpha=0.5)\n",
    "\n",
    "    x = mdates.date2num(sample['dates'])\n",
    "    fit = np.polyfit(x, sample['compound'], 1)\n",
    "    y = np.polyval(fit, x)\n",
    "    plt.plot(x, y)\n",
    "    plt.axis([sample['dates'].min() - timedelta(hours=1),sample['dates'].max() + timedelta(hours=1),-1,1])\n",
    "    x = [sample['dates'].min() + timedelta(hours=i) for i in range(4)]\n",
    "    plt.plot(x,np.zeros(4), label=\"Neutral\")\n",
    "    legend = plt.legend(loc=\"best\")\n",
    "    plt.title('Sentiment Polarity Score for First Presidential Debate - ' + name)\n",
    "    plt.ylabel('Compounded Polarity Score')\n",
    "    plt.xticks(rotation=45)\n",
    "    plt.xlabel('Time')\n",
    "    plt.show()\n",
    "    \n",
    "scatter(obamasample, \"Obama\")\n",
    "scatter(romneysample, \"Romney\")"
   ]
  },
  {
   "cell_type": "markdown",
   "metadata": {},
   "source": [
    "The scatter plots above is a plot of Twitter sentiments where either Obama or Romney are within the text. The time period is throughout the First Presidential Debate starting at around 2:00 AM and ending around 3:30 AM. When plotting a fit, it can be seen that Obama's fit does not veer away from a neutral sentiment. However, the Romney fit is noticably steeper compared to Obama's fit. From beginning to end, it can be seen that the sentiment towards Romney among tweets is increasing with respect to time. It is fair to say that Romney won the First Presidential Debate when looking at this scatter plot. Conversely, the sentiment towards Obama does not seem to change much throughout the debate."
   ]
  },
  {
   "cell_type": "markdown",
   "metadata": {},
   "source": [
    "# Youtube Timestamped Transcript\n",
    "\n",
    "For this portion, I went to youtube to find a timestamped transcript to see who is talking when and for how long. I went to \"Watch Jim Lehrer Moderate First Full Presidential Debate\" and clicked on the \"more\" button with the \"...\" image, and clicked \"open transcript.\" Then I copied and pasted the whole thing into a text document turning it into a tab delimited format. The link to the youtube video is here: https://www.youtube.com/watch?v=VK1JE7CLcJw"
   ]
  },
  {
   "cell_type": "code",
   "execution_count": 93,
   "metadata": {},
   "outputs": [
    {
     "data": {
      "text/html": [
       "<div>\n",
       "<table border=\"1\" class=\"dataframe\">\n",
       "  <thead>\n",
       "    <tr style=\"text-align: right;\">\n",
       "      <th></th>\n",
       "      <th>Time</th>\n",
       "      <th>texts</th>\n",
       "    </tr>\n",
       "  </thead>\n",
       "  <tbody>\n",
       "    <tr>\n",
       "      <th>0</th>\n",
       "      <td>\\n0:01:00</td>\n",
       "      <td>LEHRER: Good evening from the Magness Arena at...</td>\n",
       "    </tr>\n",
       "    <tr>\n",
       "      <th>1</th>\n",
       "      <td>\\n0:06:00</td>\n",
       "      <td>I'm Jim Lehrer of the \"PBS NewsHour,\" and I we...</td>\n",
       "    </tr>\n",
       "    <tr>\n",
       "      <th>2</th>\n",
       "      <td>\\n0:13:00</td>\n",
       "      <td>debates between President Barack Obama, the De...</td>\n",
       "    </tr>\n",
       "    <tr>\n",
       "      <th>3</th>\n",
       "      <td>\\n0:19:00</td>\n",
       "      <td>Governor Mitt Romney, the Republican nominee.</td>\n",
       "    </tr>\n",
       "    <tr>\n",
       "      <th>4</th>\n",
       "      <td>\\n0:22:00</td>\n",
       "      <td>LEHRER: This debate and the next three -- two ...</td>\n",
       "    </tr>\n",
       "  </tbody>\n",
       "</table>\n",
       "</div>"
      ],
      "text/plain": [
       "        Time                                              texts\n",
       "0  \\n0:01:00  LEHRER: Good evening from the Magness Arena at...\n",
       "1  \\n0:06:00  I'm Jim Lehrer of the \"PBS NewsHour,\" and I we...\n",
       "2  \\n0:13:00  debates between President Barack Obama, the De...\n",
       "3  \\n0:19:00      Governor Mitt Romney, the Republican nominee.\n",
       "4  \\n0:22:00  LEHRER: This debate and the next three -- two ..."
      ]
     },
     "execution_count": 93,
     "metadata": {},
     "output_type": "execute_result"
    }
   ],
   "source": [
    "transcriptdf = pd.read_csv(\"transcript.txt\", sep='\\t', lineterminator='\\r')\n",
    "transcriptdf.head()"
   ]
  },
  {
   "cell_type": "markdown",
   "metadata": {},
   "source": [
    "Below, I did more work with regular expressions in order to find out who is speaking. Then I turned the timestamp into datetime corresponding to real time."
   ]
  },
  {
   "cell_type": "code",
   "execution_count": 94,
   "metadata": {
    "collapsed": true
   },
   "outputs": [],
   "source": [
    "lehrerpat = \"\"\"LEHRER:\"\"\"\n",
    "lehrerpro = re.compile(lehrerpat)\n",
    "obamapat = \"\"\"OBAMA:\"\"\"\n",
    "obamapro = re.compile(obamapat)\n",
    "romneypat = \"\"\"ROMNEY:\"\"\"\n",
    "romneypro = re.compile(romneypat)\n",
    "timepat = \"\"\"^.?.:\"\"\"\n",
    "timepro = re.compile(timepat)\n",
    "\n",
    "for index, row in transcriptdf.iterrows():\n",
    "    speaking = lehrerpro.match(row['texts'])\n",
    "    if speaking:              # speaker is LEHRER\n",
    "        speaker = \"Lehrer\"\n",
    "    else:\n",
    "        speaking = obamapro.match(row['texts'])\n",
    "        if speaking:          # speaker is OBAMA\n",
    "            speaker = \"Obama\"\n",
    "        else:\n",
    "            speaking = romneypro.match(row['texts'])\n",
    "            if speaking:      # speaker is ROMNEY\n",
    "                speaker = \"Romney\"\n",
    "    transcriptdf.set_value(index, 'speaker', speaker)  \n",
    "    transcriptdf.set_value(index, 'texts', row['texts'].lower())\n",
    "    \n",
    "    \"\"\"Dealing with Time, turning time into datetime string and parallelizing this with real time\"\"\"\n",
    "    timestr = row['Time'][1:-3]\n",
    "    time = timepro.match(timestr)\n",
    "    if time:\n",
    "        e = time.end()\n",
    "        if e == 2:\n",
    "            timestr = \"Thu Oct 04 02:0\" + timestr + ' +0000 2012'\n",
    "        else:\n",
    "            minutes = int(timestr[0:2])\n",
    "            if minutes >= 60:\n",
    "                minutes = minutes -  60\n",
    "                timestr = \"Thu Oct 04 03:\" + str(minutes).zfill(2) + timestr[2:] + ' +0000 2012'\n",
    "            else:\n",
    "                timestr = \"Thu Oct 04 02:\" + timestr + ' +0000 2012'\n",
    "        dt = datetime.strptime(timestr, '%a %b %d %H:%M:%S %z %Y').date()\n",
    "        tim = datetime.strptime(timestr, '%a %b %d %H:%M:%S %z %Y').time()\n",
    "        dat = datetime.combine(dt, tim)\n",
    "        transcriptdf.set_value(index, 'Time',dat)\n",
    "        transcriptdf.set_value(index, 'Tim',tim)"
   ]
  },
  {
   "cell_type": "markdown",
   "metadata": {},
   "source": [
    "Below, I am taking the difference between each timestamp so that I can see how long each dialogue was. \n",
    "\n",
    "Note: I popped the first element and inserted it into the back to align the time it took for each dialogue."
   ]
  },
  {
   "cell_type": "code",
   "execution_count": 95,
   "metadata": {
    "collapsed": true
   },
   "outputs": [],
   "source": [
    "secondsElapsed = []\n",
    "dt = datetime.strptime('Thu Oct 04 2012', '%a %b %d %Y').date()\n",
    "tempTime = datetime.strptime(\"02:00:01\",\"%H:%M:%S\").time()\n",
    "for index, row in transcriptdf.iterrows():\n",
    "    tTime = row['Tim']\n",
    "    dat = datetime.combine(dt, tTime)\n",
    "    tim = dat - timedelta(hours=tempTime.hour, minutes=tempTime.minute, seconds=tempTime.second)\n",
    "    tm = 60 * (int(tim.minute)) + int(tim.second)\n",
    "    secondsElapsed.append(tm)\n",
    "    tempTime = tTime\n",
    "    \n",
    "secondsElapsed.pop(0)\n",
    "secondsElapsed.append(0)\n",
    "\n",
    "npsec = np.asarray(secondsElapsed)\n",
    "transcriptdf = transcriptdf.assign(seconds = secondsElapsed)"
   ]
  },
  {
   "cell_type": "markdown",
   "metadata": {},
   "source": [
    "### Plotting\n",
    "\n",
    "For the below plot, I will be using a variable called secondsdiff. This is used to symbolize the amount of time talked for both of the candidates. The difference is there to look at the back and forth between the dialogue between Romney and Obama. I am trying to see who is taking more time to speak throughout the debate."
   ]
  },
  {
   "cell_type": "code",
   "execution_count": 98,
   "metadata": {},
   "outputs": [
    {
     "data": {
      "image/png": "[encoded data removed]",
      "text/plain": [
       "<matplotlib.figure.Figure at 0x7fcc228717b8>"
      ]
     },
     "metadata": {},
     "output_type": "display_data"
    }
   ],
   "source": [
    "def plottranscript(trans):\n",
    "    \"\"\"plottranscript is the function to plot the back and forth of the amount of seconds each candidate uses during\n",
    "        the First Presidential Debate.\"\"\"\n",
    "    secondsdiff = 0\n",
    "    y = []\n",
    "    o = 0\n",
    "    r = 0\n",
    "    for index, row in trans.iterrows():\n",
    "        area = np.pi*3\n",
    "        if row['speaker'] == \"Romney\":\n",
    "            secondsdiff = secondsdiff + row['seconds']\n",
    "            if r == 0:\n",
    "                plt.scatter(row['Time'], secondsdiff, s=area, c='#ff0000', alpha=0.5, label='Romney')\n",
    "                r = r + 1\n",
    "            else:\n",
    "                plt.scatter(row['Time'], secondsdiff, s=area, c='#ff0000', alpha=0.5)\n",
    "        elif row['speaker'] == \"Obama\":\n",
    "            secondsdiff = secondsdiff - row['seconds']\n",
    "            if o == 0:\n",
    "                plt.scatter(row['Time'], secondsdiff,s=area, c='#0000ff', alpha=0.5, label='Obama')\n",
    "                o = o + 1\n",
    "            else:\n",
    "                plt.scatter(row['Time'], secondsdiff,s=area, c='#0000ff', alpha=0.5)\n",
    "        y.append(secondsdiff)\n",
    "\n",
    "    x = mdates.date2num(trans['Time'])\n",
    "    fit = np.polyfit(x, y, 1)\n",
    "    y = np.polyval(fit, x)\n",
    "    plt.plot(x, y)\n",
    "    plt.axis([trans['Time'].min() - timedelta(hours=1),trans['Time'].max() + timedelta(hours=1),-300,100])\n",
    "    x = [trans['Time'].min() + timedelta(hours=i) for i in range(4)]\n",
    "\n",
    "    legend = plt.legend(loc=\"best\")\n",
    "    \n",
    "    plt.title('Back and Forth Time in seconds for Spoken Dialogue of the Candidates')\n",
    "    plt.ylabel('Time Speaking Obama <-> Romney (seconds)')\n",
    "    plt.xticks(rotation=45)\n",
    "    plt.xlabel('Time')\n",
    "    plt.show()\n",
    "    \n",
    "plottranscript(transcriptdf)"
   ]
  },
  {
   "cell_type": "markdown",
   "metadata": {},
   "source": [
    "The plot above demonstrates how much time each candidate is speaking. The more negative the time difference is, the more it siganls that Obama is speaking more throughout the Debate. The more positive the time difference is, the more Romney is speaking. Obama is in blue and Romney is in Red. The fit is clearly going downwards, showing that Obama spoke more during the debate than Romney did.\n",
    "\n",
    "Coupled with the plots from the twitter dataset, it can be concluded that Romney used his time more efficiently during the debate and yielded better results with regards to sentiment in Twitter. Likewise, Obama used more time to debate and still kept a somewhat neutral sentiment in Twitter."
   ]
  },
  {
   "cell_type": "markdown",
   "metadata": {},
   "source": [
    "# References\n",
    "\n",
    "Scraping\n",
    "    Using the New York Times API:\n",
    "        \n",
    "        NYTIMES API Key: https://developer.nytimes.com/\n",
    "        \n",
    "        NYTIMES API: https://developer.nytimes.com/article_search_v2.json\n",
    "        \n",
    "        NYTIMES API: http://jamesboehmer.github.io/nytd2013/#/\n",
    "        \n",
    "        NYTIMES Scraping: http://dlab.berkeley.edu/blog/scraping-new-york-times-articles-python-tutorial\n",
    "        \n",
    "    NLTK:\n",
    "        Sentiment: http://www.nltk.org/api/nltk.sentiment.html\n",
    "        \n",
    "        Sentiment Analysis: http://www.learndatasci.com/sentiment-analysis-reddit-headlines-pythons-nltk/\n",
    "        \n",
    "    Twitter 2012 Presidential Election:\n",
    "        Peter Molnar's Twitter data: https://old.datahub.io/dataset/twitter-2012-presidential-election\n",
    "        \n",
    "    First Presidential Debate Youtube Timestamped Transcript:\n",
    "        Link: https://www.youtube.com/watch?v=VK1JE7CLcJw\n",
    "        \n",
    "        Full Version Non Timestamped: http://www.debates.org/index.php?page=october-3-2012-debate-transcript\n",
    "    "
   ]
  },
  {
   "cell_type": "code",
   "execution_count": null,
   "metadata": {
    "collapsed": true
   },
   "outputs": [],
   "source": []
  }
 ],
 "metadata": {
  "kernelspec": {
   "display_name": "Python 3",
   "language": "python",
   "name": "python3"
  },
  "language_info": {
   "codemirror_mode": {
    "name": "ipython",
    "version": 3
   },
   "file_extension": ".py",
   "mimetype": "text/x-python",
   "name": "python",
   "nbconvert_exporter": "python",
   "pygments_lexer": "ipython3",
   "version": "3.6.2"
  }
 },
 "nbformat": 4,
 "nbformat_minor": 2
}
