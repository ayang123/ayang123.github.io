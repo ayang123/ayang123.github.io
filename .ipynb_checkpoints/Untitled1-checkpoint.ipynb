{
 "cells": [
  {
   "cell_type": "code",
   "execution_count": 1,
   "metadata": {},
   "outputs": [
    {
     "name": "stdout",
     "output_type": "stream",
     "text": [
      "Requirement already satisfied: nltk in /opt/conda/lib/python3.6/site-packages\r\n",
      "Requirement already satisfied: six in /opt/conda/lib/python3.6/site-packages (from nltk)\r\n"
     ]
    },
    {
     "name": "stderr",
     "output_type": "stream",
     "text": [
      "/opt/conda/lib/python3.6/site-packages/nltk/twitter/__init__.py:20: UserWarning: The twython library has not been installed. Some functionality from the twitter package will not be available.\n",
      "  warnings.warn(\"The twython library has not been installed. \"\n"
     ]
    }
   ],
   "source": [
    "!pip install nltk\n",
    "import nltk\n",
    "from nltk.corpus import stopwords\n",
    "from nltk.sentiment.vader import SentimentIntensityAnalyzer as SIA"
   ]
  },
  {
   "cell_type": "code",
   "execution_count": 2,
   "metadata": {},
   "outputs": [
    {
     "name": "stdout",
     "output_type": "stream",
     "text": [
      "[nltk_data] Downloading package vader_lexicon to\n",
      "[nltk_data]     /home/jovyan/nltk_data...\n",
      "[nltk_data]   Package vader_lexicon is already up-to-date!\n",
      "[nltk_data] Downloading package stopwords to /home/jovyan/nltk_data...\n",
      "[nltk_data]   Package stopwords is already up-to-date!\n"
     ]
    },
    {
     "data": {
      "text/plain": [
       "True"
      ]
     },
     "execution_count": 2,
     "metadata": {},
     "output_type": "execute_result"
    }
   ],
   "source": [
    "nltk.download('vader_lexicon')\n",
    "nltk.download('stopwords')"
   ]
  },
  {
   "cell_type": "code",
   "execution_count": 3,
   "metadata": {
    "collapsed": true
   },
   "outputs": [],
   "source": [
    "sia = SIA()"
   ]
  },
  {
   "cell_type": "code",
   "execution_count": 4,
   "metadata": {
    "collapsed": true
   },
   "outputs": [],
   "source": [
    "import re"
   ]
  },
  {
   "cell_type": "code",
   "execution_count": 5,
   "metadata": {
    "collapsed": true
   },
   "outputs": [],
   "source": [
    "createdpattern = \"\"\"\"created_at\":\"\"\"\n",
    "createdprog = re.compile(createdpattern)"
   ]
  },
  {
   "cell_type": "code",
   "execution_count": 6,
   "metadata": {
    "collapsed": true
   },
   "outputs": [],
   "source": [
    "datepattern = \"\"\"Thu Oct 04\"\"\"\n",
    "dateprog = re.compile(datepattern)"
   ]
  },
  {
   "cell_type": "code",
   "execution_count": 7,
   "metadata": {
    "collapsed": true
   },
   "outputs": [],
   "source": [
    "textpattern = \"\"\"\"text\":\".*?\",\"retweeted_status\":\"\"\"\n",
    "textprog = re.compile(textpattern)"
   ]
  },
  {
   "cell_type": "code",
   "execution_count": 8,
   "metadata": {
    "collapsed": true
   },
   "outputs": [],
   "source": [
    "textpattern2 = '\"text\":\".*?\",\"'\n",
    "textprog2 = re.compile(textpattern2)"
   ]
  },
  {
   "cell_type": "code",
   "execution_count": 9,
   "metadata": {
    "collapsed": true
   },
   "outputs": [],
   "source": [
    "textpattern3 = \"\"\"(mitt|romney|barack|obama)\"\"\"\n",
    "textprog3 = re.compile(textpattern3)"
   ]
  },
  {
   "cell_type": "code",
   "execution_count": 10,
   "metadata": {
    "collapsed": true
   },
   "outputs": [],
   "source": [
    "obamapattern = \"\"\"(barack|obama)\"\"\"\n",
    "obamaprog = re.compile(obamapattern)"
   ]
  },
  {
   "cell_type": "code",
   "execution_count": 11,
   "metadata": {
    "collapsed": true
   },
   "outputs": [],
   "source": [
    "romneypattern = \"\"\"(mitt|romney)\"\"\"\n",
    "romneyprog = re.compile(romneypattern)"
   ]
  },
  {
   "cell_type": "code",
   "execution_count": 12,
   "metadata": {
    "collapsed": true
   },
   "outputs": [],
   "source": [
    "import numpy as np\n",
    "\n",
    "obamadates = []\n",
    "obamatexts = []\n",
    "romneydates = []\n",
    "romneytexts = []"
   ]
  },
  {
   "cell_type": "code",
   "execution_count": 13,
   "metadata": {
    "collapsed": true
   },
   "outputs": [],
   "source": [
    "def getTweets(num, number, skip=0):\n",
    "    fileStr = \"large-\" + str(num) +\".json\"\n",
    "    with open(fileStr) as jsonfile:\n",
    "        if skip != 0:\n",
    "            for i in range(skip):\n",
    "                next(jsonfile)\n",
    "        z = 0\n",
    "        for i in range(0,100000):\n",
    "            head = [next(jsonfile) for x in range(1)]\n",
    "            next(jsonfile)\n",
    "            z = z + 1\n",
    "            strhead = str(head)\n",
    "            result = createdprog.search(strhead)\n",
    "            if result:\n",
    "                end = int(result.end())\n",
    "                dat = strhead[end+1:end+31]\n",
    "                result = dateprog.search(dat)\n",
    "                if result:\n",
    "                    strhead = strhead.lower()\n",
    "                    text = textprog3.search(strhead)\n",
    "                    if text:\n",
    "                        text = textprog.search(strhead)\n",
    "                        if text:\n",
    "                            start = int(text.start())\n",
    "                            end = int(text.end())\n",
    "                            theText = strhead[start + 8:end - 21]\n",
    "                        else:\n",
    "                            text = textprog2.search(strhead)\n",
    "                            if text:\n",
    "                                start = int(text.start())\n",
    "                                end = int(text.end())\n",
    "                                theText = strhead[start + 8:end - 3]\n",
    "                        success = obamaprog.search(theText)\n",
    "                        if success:\n",
    "                            success = romneyprog.search(theText)\n",
    "                            if not success:\n",
    "                                obamadates.append(dat)\n",
    "                                obamatexts.append(theText)\n",
    "                        else:\n",
    "                            success = romneyprog.search(theText)\n",
    "                            if success:\n",
    "                                romneydates.append(dat)\n",
    "                                romneytexts.append(theText)"
   ]
  },
  {
   "cell_type": "code",
   "execution_count": 14,
   "metadata": {
    "collapsed": true
   },
   "outputs": [],
   "source": [
    "getTweets(3, 10000000, 5082000)"
   ]
  },
  {
   "cell_type": "code",
   "execution_count": 15,
   "metadata": {},
   "outputs": [
    {
     "data": {
      "text/plain": [
       "28159"
      ]
     },
     "execution_count": 15,
     "metadata": {},
     "output_type": "execute_result"
    }
   ],
   "source": [
    "len(obamadates)"
   ]
  },
  {
   "cell_type": "code",
   "execution_count": 16,
   "metadata": {
    "collapsed": true
   },
   "outputs": [],
   "source": [
    "npobamadates = np.asarray(obamadates)\n",
    "npobamatexts = np.asarray(obamatexts)\n",
    "npromneydates = np.asarray(romneydates)\n",
    "npromneytexts = np.asarray(romneytexts)"
   ]
  },
  {
   "cell_type": "code",
   "execution_count": 17,
   "metadata": {
    "collapsed": true
   },
   "outputs": [],
   "source": [
    "import pandas as pd\n",
    "from datetime import datetime, timedelta\n",
    "obamadf = pd.DataFrame({'dates':npobamadates, 'texts':npobamatexts})\n",
    "romneydf = pd.DataFrame({'dates':npromneydates, 'texts':npromneytexts})\n",
    "obamadf = obamadf.drop_duplicates()\n",
    "romneydf = romneydf.drop_duplicates()"
   ]
  },
  {
   "cell_type": "code",
   "execution_count": 18,
   "metadata": {},
   "outputs": [
    {
     "data": {
      "text/html": [
       "<div>\n",
       "<table border=\"1\" class=\"dataframe\">\n",
       "  <thead>\n",
       "    <tr style=\"text-align: right;\">\n",
       "      <th></th>\n",
       "      <th>dates</th>\n",
       "      <th>texts</th>\n",
       "    </tr>\n",
       "  </thead>\n",
       "  <tbody>\n",
       "    <tr>\n",
       "      <th>0</th>\n",
       "      <td>Thu Oct 04 02:03:41 +0000 2012</td>\n",
       "      <td>obama face lmaooooooo http:\\\\/\\\\/t.co\\\\/ywo9rd...</td>\n",
       "    </tr>\n",
       "    <tr>\n",
       "      <th>1</th>\n",
       "      <td>Thu Oct 04 02:03:41 +0000 2012</td>\n",
       "      <td>those lines lehrer was feeding obama sucked! #...</td>\n",
       "    </tr>\n",
       "    <tr>\n",
       "      <th>2</th>\n",
       "      <td>Thu Oct 04 02:03:41 +0000 2012</td>\n",
       "      <td>i guess everyone voting for obama means they e...</td>\n",
       "    </tr>\n",
       "    <tr>\n",
       "      <th>3</th>\n",
       "      <td>Thu Oct 04 01:59:05 +0000 2012</td>\n",
       "      <td>lowkey obama gone whoop his ass after the debate.</td>\n",
       "    </tr>\n",
       "    <tr>\n",
       "      <th>4</th>\n",
       "      <td>Thu Oct 04 02:03:41 +0000 2012</td>\n",
       "      <td>yes obama call him out</td>\n",
       "    </tr>\n",
       "  </tbody>\n",
       "</table>\n",
       "</div>"
      ],
      "text/plain": [
       "                            dates  \\\n",
       "0  Thu Oct 04 02:03:41 +0000 2012   \n",
       "1  Thu Oct 04 02:03:41 +0000 2012   \n",
       "2  Thu Oct 04 02:03:41 +0000 2012   \n",
       "3  Thu Oct 04 01:59:05 +0000 2012   \n",
       "4  Thu Oct 04 02:03:41 +0000 2012   \n",
       "\n",
       "                                               texts  \n",
       "0  obama face lmaooooooo http:\\\\/\\\\/t.co\\\\/ywo9rd...  \n",
       "1  those lines lehrer was feeding obama sucked! #...  \n",
       "2  i guess everyone voting for obama means they e...  \n",
       "3  lowkey obama gone whoop his ass after the debate.  \n",
       "4                             yes obama call him out  "
      ]
     },
     "execution_count": 18,
     "metadata": {},
     "output_type": "execute_result"
    }
   ],
   "source": [
    "obamadf.head()"
   ]
  },
  {
   "cell_type": "code",
   "execution_count": 19,
   "metadata": {},
   "outputs": [
    {
     "data": {
      "text/html": [
       "<div>\n",
       "<table border=\"1\" class=\"dataframe\">\n",
       "  <thead>\n",
       "    <tr style=\"text-align: right;\">\n",
       "      <th></th>\n",
       "      <th>dates</th>\n",
       "      <th>texts</th>\n",
       "    </tr>\n",
       "  </thead>\n",
       "  <tbody>\n",
       "    <tr>\n",
       "      <th>0</th>\n",
       "      <td>Thu Oct 04 02:03:41 +0000 2012</td>\n",
       "      <td>rt @kalliko_: mitt romney\\'s first name is wil...</td>\n",
       "    </tr>\n",
       "    <tr>\n",
       "      <th>1</th>\n",
       "      <td>Thu Oct 04 02:03:41 +0000 2012</td>\n",
       "      <td>\\\\ud83d\\\\ude02\\\\ud83d\\\\ude02\\\\ud83d\\\\ude02 rt ...</td>\n",
       "    </tr>\n",
       "    <tr>\n",
       "      <th>2</th>\n",
       "      <td>Thu Oct 04 02:03:41 +0000 2012</td>\n",
       "      <td>mitt romney still messed up for talkin abt can...</td>\n",
       "    </tr>\n",
       "    <tr>\n",
       "      <th>3</th>\n",
       "      <td>Thu Oct 04 02:03:41 +0000 2012</td>\n",
       "      <td>lmfao! \\\\u201c@buyand_kell: when romney was ta...</td>\n",
       "    </tr>\n",
       "    <tr>\n",
       "      <th>4</th>\n",
       "      <td>Thu Oct 04 02:03:42 +0000 2012</td>\n",
       "      <td>c\\'mon romney, i know you want to, just drop t...</td>\n",
       "    </tr>\n",
       "  </tbody>\n",
       "</table>\n",
       "</div>"
      ],
      "text/plain": [
       "                            dates  \\\n",
       "0  Thu Oct 04 02:03:41 +0000 2012   \n",
       "1  Thu Oct 04 02:03:41 +0000 2012   \n",
       "2  Thu Oct 04 02:03:41 +0000 2012   \n",
       "3  Thu Oct 04 02:03:41 +0000 2012   \n",
       "4  Thu Oct 04 02:03:42 +0000 2012   \n",
       "\n",
       "                                               texts  \n",
       "0  rt @kalliko_: mitt romney\\'s first name is wil...  \n",
       "1  \\\\ud83d\\\\ude02\\\\ud83d\\\\ude02\\\\ud83d\\\\ude02 rt ...  \n",
       "2  mitt romney still messed up for talkin abt can...  \n",
       "3  lmfao! \\\\u201c@buyand_kell: when romney was ta...  \n",
       "4  c\\'mon romney, i know you want to, just drop t...  "
      ]
     },
     "execution_count": 19,
     "metadata": {},
     "output_type": "execute_result"
    }
   ],
   "source": [
    "romneydf.head()"
   ]
  },
  {
   "cell_type": "code",
   "execution_count": 20,
   "metadata": {
    "collapsed": true
   },
   "outputs": [],
   "source": [
    "def replacedates(df):\n",
    "    for index, row in df.iterrows():\n",
    "        datestr = row['dates']\n",
    "        dt = datetime.strptime(datestr, '%a %b %d %H:%M:%S %z %Y').date()\n",
    "        tim = datetime.strptime(datestr, '%a %b %d %H:%M:%S %z %Y').time()\n",
    "        dat = datetime.combine(dt, tim)\n",
    "        df.set_value(index, 'dates',dat)\n",
    "    \n",
    "replacedates(obamadf)\n",
    "replacedates(romneydf)"
   ]
  },
  {
   "cell_type": "code",
   "execution_count": 21,
   "metadata": {
    "collapsed": true
   },
   "outputs": [],
   "source": [
    "obamadf2 = pd.DataFrame(data=obamadf)\n",
    "romneydf2 = pd.DataFrame(data=romneydf)\n",
    "\n",
    "def polarity_score(df):\n",
    "    for index, row in df.iterrows():\n",
    "        head = row['texts']\n",
    "        pol_score = sia.polarity_scores(head)\n",
    "        df.set_value(index, 'compound', pol_score['compound'])\n",
    "        df.set_value(index, 'neg', pol_score['neg'])\n",
    "        df.set_value(index, 'neu', pol_score['neu'])\n",
    "        df.set_value(index, 'pos', pol_score['pos'])\n",
    "\n",
    "polarity_score(obamadf2)\n",
    "polarity_score(romneydf2)"
   ]
  },
  {
   "cell_type": "code",
   "execution_count": 22,
   "metadata": {
    "collapsed": true
   },
   "outputs": [],
   "source": [
    "obamasample = obamadf2.sample(frac=1/30).reset_index(drop=True)\n",
    "romneysample = romneydf2.sample(frac=1/30).reset_index(drop=True)"
   ]
  },
  {
   "cell_type": "code",
   "execution_count": 23,
   "metadata": {
    "collapsed": true
   },
   "outputs": [],
   "source": [
    "import matplotlib.pyplot as plt\n",
    "import matplotlib.dates as mdates"
   ]
  },
  {
   "cell_type": "code",
   "execution_count": 224,
   "metadata": {},
   "outputs": [
    {
     "data": {
      "image/png": "[encoded data removed]",
      "text/plain": [
       "<matplotlib.figure.Figure at 0x7f893ada8828>"
      ]
     },
     "metadata": {},
     "output_type": "display_data"
    },
    {
     "data": {
      "image/png": "[encoded data removed]",
      "text/plain": [
       "<matplotlib.figure.Figure at 0x7f893cb32278>"
      ]
     },
     "metadata": {},
     "output_type": "display_data"
    }
   ],
   "source": [
    "def scatter(sample, name):\n",
    "    for index, row in sample.iterrows():\n",
    "        area = np.pi*3\n",
    "        plt.scatter(row['dates'], row['compound'], s=area, c='#000000', alpha=0.5)\n",
    "\n",
    "    x = mdates.date2num(sample['dates'])\n",
    "    fit = np.polyfit(x, sample['compound'], 1)\n",
    "    y = np.polyval(fit, x)\n",
    "    plt.plot(x, y)\n",
    "    plt.axis([sample['dates'].min() - timedelta(hours=1),sample['dates'].max() + timedelta(hours=1),-1,1])\n",
    "    x = [sample['dates'].min() + timedelta(hours=i) for i in range(4)]\n",
    "    plt.plot(x,np.zeros(4), label=\"Neutral\")\n",
    "    legend = plt.legend(loc=\"best\")\n",
    "    plt.title('Sentiment Polarity Score for First Presidential Debate - ' + name)\n",
    "    plt.ylabel('Compounded Polarity Score')\n",
    "    plt.xticks(rotation=45)\n",
    "    plt.xlabel('Time')\n",
    "    plt.show()\n",
    "    \n",
    "scatter(obamasample, \"Obama\")\n",
    "scatter(romneysample, \"Romney\")"
   ]
  },
  {
   "cell_type": "code",
   "execution_count": 245,
   "metadata": {},
   "outputs": [],
   "source": [
    "transcriptdf = pd.read_csv(\"transcript.txt\", sep='\\t', lineterminator='\\r')"
   ]
  },
  {
   "cell_type": "code",
   "execution_count": 246,
   "metadata": {},
   "outputs": [
    {
     "data": {
      "text/html": [
       "<div>\n",
       "<table border=\"1\" class=\"dataframe\">\n",
       "  <thead>\n",
       "    <tr style=\"text-align: right;\">\n",
       "      <th></th>\n",
       "      <th>Time</th>\n",
       "      <th>texts</th>\n",
       "    </tr>\n",
       "  </thead>\n",
       "  <tbody>\n",
       "    <tr>\n",
       "      <th>0</th>\n",
       "      <td>\\n0:01:00</td>\n",
       "      <td>LEHRER: Good evening from the Magness Arena at...</td>\n",
       "    </tr>\n",
       "    <tr>\n",
       "      <th>1</th>\n",
       "      <td>\\n0:06:00</td>\n",
       "      <td>I'm Jim Lehrer of the \"PBS NewsHour,\" and I we...</td>\n",
       "    </tr>\n",
       "    <tr>\n",
       "      <th>2</th>\n",
       "      <td>\\n0:13:00</td>\n",
       "      <td>debates between President Barack Obama, the De...</td>\n",
       "    </tr>\n",
       "    <tr>\n",
       "      <th>3</th>\n",
       "      <td>\\n0:19:00</td>\n",
       "      <td>Governor Mitt Romney, the Republican nominee.</td>\n",
       "    </tr>\n",
       "    <tr>\n",
       "      <th>4</th>\n",
       "      <td>\\n0:22:00</td>\n",
       "      <td>LEHRER: This debate and the next three -- two ...</td>\n",
       "    </tr>\n",
       "  </tbody>\n",
       "</table>\n",
       "</div>"
      ],
      "text/plain": [
       "        Time                                              texts\n",
       "0  \\n0:01:00  LEHRER: Good evening from the Magness Arena at...\n",
       "1  \\n0:06:00  I'm Jim Lehrer of the \"PBS NewsHour,\" and I we...\n",
       "2  \\n0:13:00  debates between President Barack Obama, the De...\n",
       "3  \\n0:19:00      Governor Mitt Romney, the Republican nominee.\n",
       "4  \\n0:22:00  LEHRER: This debate and the next three -- two ..."
      ]
     },
     "execution_count": 246,
     "metadata": {},
     "output_type": "execute_result"
    }
   ],
   "source": [
    "transcriptdf.head()"
   ]
  },
  {
   "cell_type": "code",
   "execution_count": 247,
   "metadata": {},
   "outputs": [],
   "source": [
    "lehrerpat = \"\"\"LEHRER:\"\"\"\n",
    "lehrerpro = re.compile(lehrerpat)\n",
    "obamapat = \"\"\"OBAMA:\"\"\"\n",
    "obamapro = re.compile(obamapat)\n",
    "romneypat = \"\"\"ROMNEY:\"\"\"\n",
    "romneypro = re.compile(romneypat)\n",
    "timepat = \"\"\"^.?.:\"\"\"\n",
    "timepro = re.compile(timepat)\n",
    "\n",
    "for index, row in transcriptdf.iterrows():\n",
    "    speaking = lehrerpro.match(row['texts'])\n",
    "    if speaking:              # speaker is LEHRER\n",
    "        speaker = \"Lehrer\"\n",
    "    else:\n",
    "        speaking = obamapro.match(row['texts'])\n",
    "        if speaking:          # speaker is OBAMA\n",
    "            speaker = \"Obama\"\n",
    "        else:\n",
    "            speaking = romneypro.match(row['texts'])\n",
    "            if speaking:\n",
    "                speaker = \"Romney\"\n",
    "    transcriptdf.set_value(index, 'speaker', speaker)  \n",
    "    transcriptdf.set_value(index, 'texts', row['texts'].lower())\n",
    "    timestr = row['Time'][1:-3]\n",
    "    time = timepro.match(timestr)\n",
    "    if time:\n",
    "        e = time.end()\n",
    "        if e == 2:\n",
    "            timestr = \"Thu Oct 04 02:0\" + timestr + ' +0000 2012'\n",
    "        else:\n",
    "            minutes = int(timestr[0:2])\n",
    "            if minutes >= 60:\n",
    "                minutes = minutes -  60\n",
    "                timestr = \"Thu Oct 04 03:\" + str(minutes).zfill(2) + timestr[2:] + ' +0000 2012'\n",
    "            else:\n",
    "                timestr = \"Thu Oct 04 02:\" + timestr + ' +0000 2012'\n",
    "        dt = datetime.strptime(timestr, '%a %b %d %H:%M:%S %z %Y').date()\n",
    "        tim = datetime.strptime(timestr, '%a %b %d %H:%M:%S %z %Y').time()\n",
    "        #dt = datetime.strptime('04Oct2012', '%d%b%Y').date()\n",
    "        #tim = datetime.strptime(timestr, '%H:%M:%S:00 %z').time()\n",
    "        dat = datetime.combine(dt, tim)\n",
    "        transcriptdf.set_value(index, 'Time',dat)\n",
    "        transcriptdf.set_value(index, 'Tim',tim)\n",
    "        "
   ]
  },
  {
   "cell_type": "code",
   "execution_count": 248,
   "metadata": {},
   "outputs": [],
   "source": [
    "polarity_score(transcriptdf)"
   ]
  },
  {
   "cell_type": "code",
   "execution_count": 249,
   "metadata": {},
   "outputs": [
    {
     "data": {
      "text/html": [
       "<div>\n",
       "<table border=\"1\" class=\"dataframe\">\n",
       "  <thead>\n",
       "    <tr style=\"text-align: right;\">\n",
       "      <th></th>\n",
       "      <th>Time</th>\n",
       "      <th>texts</th>\n",
       "      <th>speaker</th>\n",
       "      <th>Tim</th>\n",
       "      <th>compound</th>\n",
       "      <th>neg</th>\n",
       "      <th>neu</th>\n",
       "      <th>pos</th>\n",
       "    </tr>\n",
       "  </thead>\n",
       "  <tbody>\n",
       "    <tr>\n",
       "      <th>0</th>\n",
       "      <td>2012-10-04 02:00:01</td>\n",
       "      <td>lehrer: good evening from the magness arena at...</td>\n",
       "      <td>Lehrer</td>\n",
       "      <td>02:00:01</td>\n",
       "      <td>0.4404</td>\n",
       "      <td>0.0</td>\n",
       "      <td>0.828</td>\n",
       "      <td>0.172</td>\n",
       "    </tr>\n",
       "    <tr>\n",
       "      <th>1</th>\n",
       "      <td>2012-10-04 02:00:06</td>\n",
       "      <td>i'm jim lehrer of the \"pbs newshour,\" and i we...</td>\n",
       "      <td>Lehrer</td>\n",
       "      <td>02:00:06</td>\n",
       "      <td>0.4588</td>\n",
       "      <td>0.0</td>\n",
       "      <td>0.842</td>\n",
       "      <td>0.158</td>\n",
       "    </tr>\n",
       "    <tr>\n",
       "      <th>2</th>\n",
       "      <td>2012-10-04 02:00:13</td>\n",
       "      <td>debates between president barack obama, the de...</td>\n",
       "      <td>Lehrer</td>\n",
       "      <td>02:00:13</td>\n",
       "      <td>0.0000</td>\n",
       "      <td>0.0</td>\n",
       "      <td>1.000</td>\n",
       "      <td>0.000</td>\n",
       "    </tr>\n",
       "    <tr>\n",
       "      <th>3</th>\n",
       "      <td>2012-10-04 02:00:19</td>\n",
       "      <td>governor mitt romney, the republican nominee.</td>\n",
       "      <td>Lehrer</td>\n",
       "      <td>02:00:19</td>\n",
       "      <td>0.0000</td>\n",
       "      <td>0.0</td>\n",
       "      <td>1.000</td>\n",
       "      <td>0.000</td>\n",
       "    </tr>\n",
       "    <tr>\n",
       "      <th>4</th>\n",
       "      <td>2012-10-04 02:00:22</td>\n",
       "      <td>lehrer: this debate and the next three -- two ...</td>\n",
       "      <td>Lehrer</td>\n",
       "      <td>02:00:22</td>\n",
       "      <td>0.0000</td>\n",
       "      <td>0.0</td>\n",
       "      <td>1.000</td>\n",
       "      <td>0.000</td>\n",
       "    </tr>\n",
       "  </tbody>\n",
       "</table>\n",
       "</div>"
      ],
      "text/plain": [
       "                  Time                                              texts  \\\n",
       "0  2012-10-04 02:00:01  lehrer: good evening from the magness arena at...   \n",
       "1  2012-10-04 02:00:06  i'm jim lehrer of the \"pbs newshour,\" and i we...   \n",
       "2  2012-10-04 02:00:13  debates between president barack obama, the de...   \n",
       "3  2012-10-04 02:00:19      governor mitt romney, the republican nominee.   \n",
       "4  2012-10-04 02:00:22  lehrer: this debate and the next three -- two ...   \n",
       "\n",
       "  speaker       Tim  compound  neg    neu    pos  \n",
       "0  Lehrer  02:00:01    0.4404  0.0  0.828  0.172  \n",
       "1  Lehrer  02:00:06    0.4588  0.0  0.842  0.158  \n",
       "2  Lehrer  02:00:13    0.0000  0.0  1.000  0.000  \n",
       "3  Lehrer  02:00:19    0.0000  0.0  1.000  0.000  \n",
       "4  Lehrer  02:00:22    0.0000  0.0  1.000  0.000  "
      ]
     },
     "execution_count": 249,
     "metadata": {},
     "output_type": "execute_result"
    }
   ],
   "source": [
    "transcriptdf.head()"
   ]
  },
  {
   "cell_type": "code",
   "execution_count": 262,
   "metadata": {},
   "outputs": [
    {
     "data": {
      "text/plain": [
       "5"
      ]
     },
     "execution_count": 262,
     "metadata": {},
     "output_type": "execute_result"
    }
   ],
   "source": [
    "dt = datetime.strptime('Thu Oct 04 2012', '%a %b %d %Y').date()\n",
    "tempTime = datetime.strptime(\"02:00:01\",\"%H:%M:%S\").time()\n",
    "tTime = datetime.strptime(\"02:00:06\",\"%H:%M:%S\").time()\n",
    "dat = datetime.combine(dt, tTime)\n",
    "tim = dat - timedelta(hours=tempTime.hour, minutes=tempTime.minute, seconds=tempTime.second)\n",
    "tm = 60 * (int(tim.minute)) + int(tim.second)\n",
    "tm"
   ]
  },
  {
   "cell_type": "code",
   "execution_count": 268,
   "metadata": {
    "collapsed": true
   },
   "outputs": [],
   "source": [
    "secondsElapsed = []\n",
    "dt = datetime.strptime('Thu Oct 04 2012', '%a %b %d %Y').date()\n",
    "tempTime = datetime.strptime(\"02:00:01\",\"%H:%M:%S\").time()\n",
    "for index, row in transcriptdf.iterrows():\n",
    "    tTime = row['Tim']\n",
    "    dat = datetime.combine(dt, tTime)\n",
    "    tim = dat - timedelta(hours=tempTime.hour, minutes=tempTime.minute, seconds=tempTime.second)\n",
    "    tm = 60 * (int(tim.minute)) + int(tim.second)\n",
    "    secondsElapsed.append(tm)\n",
    "    tempTime = tTime\n",
    "    "
   ]
  },
  {
   "cell_type": "code",
   "execution_count": 269,
   "metadata": {},
   "outputs": [],
   "source": [
    "secondsElapsed.pop(0)\n",
    "secondsElapsed.append(0)"
   ]
  },
  {
   "cell_type": "code",
   "execution_count": 270,
   "metadata": {
    "collapsed": true
   },
   "outputs": [],
   "source": [
    "npsec = np.asarray(secondsElapsed)"
   ]
  },
  {
   "cell_type": "code",
   "execution_count": 274,
   "metadata": {},
   "outputs": [],
   "source": [
    "transcriptdf = transcriptdf.assign(seconds = secondsElapsed)"
   ]
  },
  {
   "cell_type": "code",
   "execution_count": 275,
   "metadata": {
    "collapsed": true
   },
   "outputs": [],
   "source": [
    "obamaSpeaker = pd.DataFrame(data=transcriptdf[transcriptdf['speaker'] == \"Obama\"])\n",
    "romneySpeaker = pd.DataFrame(data=transcriptdf[transcriptdf['speaker'] == \"Romney\"])"
   ]
  },
  {
   "cell_type": "code",
   "execution_count": 276,
   "metadata": {},
   "outputs": [
    {
     "data": {
      "text/html": [
       "<div>\n",
       "<table border=\"1\" class=\"dataframe\">\n",
       "  <thead>\n",
       "    <tr style=\"text-align: right;\">\n",
       "      <th></th>\n",
       "      <th>Time</th>\n",
       "      <th>texts</th>\n",
       "      <th>speaker</th>\n",
       "      <th>Tim</th>\n",
       "      <th>compound</th>\n",
       "      <th>neg</th>\n",
       "      <th>neu</th>\n",
       "      <th>pos</th>\n",
       "      <th>seconds</th>\n",
       "    </tr>\n",
       "  </thead>\n",
       "  <tbody>\n",
       "    <tr>\n",
       "      <th>25</th>\n",
       "      <td>2012-10-04 02:02:43</td>\n",
       "      <td>obama: well, thank you very much, jim, for thi...</td>\n",
       "      <td>Obama</td>\n",
       "      <td>02:02:43</td>\n",
       "      <td>0.8641</td>\n",
       "      <td>0.0</td>\n",
       "      <td>0.436</td>\n",
       "      <td>0.564</td>\n",
       "      <td>5</td>\n",
       "    </tr>\n",
       "    <tr>\n",
       "      <th>26</th>\n",
       "      <td>2012-10-04 02:02:48</td>\n",
       "      <td>romney and the university of denver for your h...</td>\n",
       "      <td>Obama</td>\n",
       "      <td>02:02:48</td>\n",
       "      <td>0.0000</td>\n",
       "      <td>0.0</td>\n",
       "      <td>1.000</td>\n",
       "      <td>0.000</td>\n",
       "      <td>2</td>\n",
       "    </tr>\n",
       "    <tr>\n",
       "      <th>27</th>\n",
       "      <td>2012-10-04 02:02:50</td>\n",
       "      <td>there are a lot of points i want to make tonig...</td>\n",
       "      <td>Obama</td>\n",
       "      <td>02:02:50</td>\n",
       "      <td>0.4194</td>\n",
       "      <td>0.0</td>\n",
       "      <td>0.809</td>\n",
       "      <td>0.191</td>\n",
       "      <td>6</td>\n",
       "    </tr>\n",
       "    <tr>\n",
       "      <th>28</th>\n",
       "      <td>2012-10-04 02:02:56</td>\n",
       "      <td>ago i became the luckiest man on earth because...</td>\n",
       "      <td>Obama</td>\n",
       "      <td>02:02:56</td>\n",
       "      <td>0.7184</td>\n",
       "      <td>0.0</td>\n",
       "      <td>0.667</td>\n",
       "      <td>0.333</td>\n",
       "      <td>5</td>\n",
       "    </tr>\n",
       "    <tr>\n",
       "      <th>29</th>\n",
       "      <td>2012-10-04 02:03:01</td>\n",
       "      <td>and so i just want to wish, sweetie, you happy...</td>\n",
       "      <td>Obama</td>\n",
       "      <td>02:03:01</td>\n",
       "      <td>0.8801</td>\n",
       "      <td>0.0</td>\n",
       "      <td>0.538</td>\n",
       "      <td>0.462</td>\n",
       "      <td>7</td>\n",
       "    </tr>\n",
       "  </tbody>\n",
       "</table>\n",
       "</div>"
      ],
      "text/plain": [
       "                   Time                                              texts  \\\n",
       "25  2012-10-04 02:02:43  obama: well, thank you very much, jim, for thi...   \n",
       "26  2012-10-04 02:02:48  romney and the university of denver for your h...   \n",
       "27  2012-10-04 02:02:50  there are a lot of points i want to make tonig...   \n",
       "28  2012-10-04 02:02:56  ago i became the luckiest man on earth because...   \n",
       "29  2012-10-04 02:03:01  and so i just want to wish, sweetie, you happy...   \n",
       "\n",
       "   speaker       Tim  compound  neg    neu    pos  seconds  \n",
       "25   Obama  02:02:43    0.8641  0.0  0.436  0.564        5  \n",
       "26   Obama  02:02:48    0.0000  0.0  1.000  0.000        2  \n",
       "27   Obama  02:02:50    0.4194  0.0  0.809  0.191        6  \n",
       "28   Obama  02:02:56    0.7184  0.0  0.667  0.333        5  \n",
       "29   Obama  02:03:01    0.8801  0.0  0.538  0.462        7  "
      ]
     },
     "execution_count": 276,
     "metadata": {},
     "output_type": "execute_result"
    }
   ],
   "source": [
    "obamaSpeaker.head()"
   ]
  },
  {
   "cell_type": "code",
   "execution_count": 288,
   "metadata": {},
   "outputs": [
    {
     "data": {
      "image/png": "[encoded data removed]",
      "text/plain": [
       "<matplotlib.figure.Figure at 0x7f893b524d68>"
      ]
     },
     "metadata": {},
     "output_type": "display_data"
    }
   ],
   "source": [
    "def scattertranscript(trans):\n",
    "    secondsdiff = 0\n",
    "    y = []\n",
    "    for index, row in trans.iterrows():\n",
    "        area = np.pi*3\n",
    "        if row['speaker'] == \"Romney\":\n",
    "            secondsdiff = secondsdiff + row['seconds']\n",
    "            plt.scatter(row['Time'], secondsdiff, s=area, c='#ff0000', alpha=0.5)\n",
    "        elif row['speaker'] == \"Obama\":\n",
    "            secondsdiff = secondsdiff - row['seconds']\n",
    "            plt.scatter(row['Time'], secondsdiff,s=area, c='#0000ff', alpha=0.5)\n",
    "        y.append(secondsdiff)\n",
    "        #else:\n",
    "        #    plt.scatter(row['time'], row['compound'], s=area, c='#d3d3d3', alpha=0.5)\n",
    "\n",
    "    x = mdates.date2num(trans['Time'])\n",
    "    fit = np.polyfit(x, y, 1)\n",
    "    y = np.polyval(fit, x)\n",
    "    plt.plot(x, y)\n",
    "    plt.axis([trans['Time'].min() - timedelta(hours=1),trans['Time'].max() + timedelta(hours=1),-300,100])\n",
    "    x = [trans['Time'].min() + timedelta(hours=i) for i in range(4)]\n",
    "    #plt.plot(x,np.zeros(4), label=\"Neutral\")\n",
    "    #legend = plt.legend(loc=\"best\")\n",
    "    plt.title('Sentiment Polarity Score for First Presidential Debate')\n",
    "    plt.ylabel('Time Speaking Obama <-> Romney (seconds)')\n",
    "    plt.xticks(rotation=45)\n",
    "    plt.xlabel('Time')\n",
    "    plt.show()\n",
    "    \n",
    "scattertranscript(transcriptdf)\n",
    "#scattertranscript(obamaSpeaker)\n",
    "#scattertranscript(romneySpeaker)"
   ]
  },
  {
   "cell_type": "code",
   "execution_count": 165,
   "metadata": {
    "collapsed": true
   },
   "outputs": [],
   "source": [
    "plt.clf()"
   ]
  },
  {
   "cell_type": "code",
   "execution_count": null,
   "metadata": {
    "collapsed": true
   },
   "outputs": [],
   "source": []
  }
 ],
 "metadata": {
  "kernelspec": {
   "display_name": "Python 3",
   "language": "python",
   "name": "python3"
  },
  "language_info": {
   "codemirror_mode": {
    "name": "ipython",
    "version": 3
   },
   "file_extension": ".py",
   "mimetype": "text/x-python",
   "name": "python",
   "nbconvert_exporter": "python",
   "pygments_lexer": "ipython3",
   "version": "3.6.2"
  }
 },
 "nbformat": 4,
 "nbformat_minor": 2
}
