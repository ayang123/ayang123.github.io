{
 "cells": [
  {
   "cell_type": "code",
   "execution_count": 1,
   "metadata": {},
   "outputs": [
    {
     "name": "stdout",
     "output_type": "stream",
     "text": [
      "Collecting nltk\n",
      "  Downloading nltk-3.2.5.tar.gz (1.2MB)\n",
      "\u001b[K    100% |████████████████████████████████| 1.2MB 486kB/s ta 0:00:01\n",
      "\u001b[?25hRequirement already satisfied: six in /opt/conda/lib/python3.6/site-packages (from nltk)\n",
      "Building wheels for collected packages: nltk\n",
      "  Running setup.py bdist_wheel for nltk ... \u001b[?25ldone\n",
      "\u001b[?25h  Stored in directory: /home/jovyan/.cache/pip/wheels/18/9c/1f/276bc3f421614062468cb1c9d695e6086d0c73d67ea363c501\n",
      "Successfully built nltk\n",
      "Installing collected packages: nltk\n",
      "Successfully installed nltk-3.2.5\n"
     ]
    },
    {
     "name": "stderr",
     "output_type": "stream",
     "text": [
      "/opt/conda/lib/python3.6/site-packages/nltk/twitter/__init__.py:20: UserWarning: The twython library has not been installed. Some functionality from the twitter package will not be available.\n",
      "  warnings.warn(\"The twython library has not been installed. \"\n"
     ]
    }
   ],
   "source": [
    "!pip install nltk\n",
    "import nltk\n",
    "from nltk.corpus import stopwords\n",
    "from nltk.sentiment.vader import SentimentIntensityAnalyzer as SIA"
   ]
  },
  {
   "cell_type": "code",
   "execution_count": 2,
   "metadata": {},
   "outputs": [
    {
     "name": "stdout",
     "output_type": "stream",
     "text": [
      "[nltk_data] Downloading package vader_lexicon to\n",
      "[nltk_data]     /home/jovyan/nltk_data...\n",
      "[nltk_data] Downloading package stopwords to /home/jovyan/nltk_data...\n",
      "[nltk_data]   Unzipping corpora/stopwords.zip.\n"
     ]
    },
    {
     "data": {
      "text/plain": [
       "True"
      ]
     },
     "execution_count": 2,
     "metadata": {},
     "output_type": "execute_result"
    }
   ],
   "source": [
    "nltk.download('vader_lexicon')\n",
    "nltk.download('stopwords')"
   ]
  },
  {
   "cell_type": "code",
   "execution_count": 3,
   "metadata": {
    "collapsed": true
   },
   "outputs": [],
   "source": [
    "sia = SIA()"
   ]
  },
  {
   "cell_type": "code",
   "execution_count": 4,
   "metadata": {},
   "outputs": [
    {
     "data": {
      "text/plain": [
       "{'compound': 0.9965, 'neg': 0.09, 'neu': 0.771, 'pos': 0.139}"
      ]
     },
     "execution_count": 4,
     "metadata": {},
     "output_type": "execute_result"
    }
   ],
   "source": [
    "sia.polarity_scores(\"\"\"\n",
    "' WASHINGTON — The first presidential debate is likely to focus on economic issues as President Obama and Mitt Romney clash over the size and role of government. Here are some topics that could come up. DEBT Mr. Romney blames Mr. Obama for annual trillion-dollar deficits adding to what is now a $16 trillion national debt. Nonpartisan analysts agree that Mr. Obama inherited a bad hand: the 2009 deficit was a projected $1.2 trillion when he took office because of Bush-era policies and an economic crisis that slashed tax collections and increased spending for jobless aid and other safety-net programs. He has added $1.4 trillion in stimulus spending and tax cuts, and he has continued the Bush policies that Democrats blame for the swing from surpluses to deficits: income tax cuts, a Medicare drug benefit and war operations. But Mr. Obama’s health care law, rather than adding $1 trillion to deficits as Mr. Romney says, includes offsetting cost savings and tax increases. And Mr. Obama proposes tax increases on the wealthy and spending cuts. Mr. Romney’s deficit-reduction plans are hard to assess, given his lack of detail, and they would not fully kick in for years, but analysts say they could lead to a larger debt in the next decade than Mr. Obama’s agenda would. They cite Mr. Romney’s proposals for new tax cuts, an increase in military spending and a delay until 2022 in remaking Medicare. In the end, the rate of deficit reduction could depend more on the strength of the economic recovery and long-term growth rates than on any particular policy prescription. TAXES Mr. Obama says Mr. Romney’s tax plan would cut taxes further for the wealthy and increase them for everyone else. His charge derives from an analysis by the nonpartisan Tax Policy Center. Mr. Romney has proposed to cut income tax rates 20 percent, but in a way that neither hurts middle-income taxpayers nor adds to deficits — by cutting tax breaks for high-income taxpayers (but not those for their investments and savings). The Tax Policy Center made many favorable assumptions about Mr. Romney’s plan, given its lack of detail, yet said it does not add up. The analysts say he would have to cut tax breaks for the 95 percent of households with annual income under $200,000, including those for mortgage interest, health insurance and charitable giving. Families with children would pay $2,000 more on average, they said. Mr. Romney suggested on Monday limiting deductions to $17,000 for everyone. Mr. Romney counters that Mr. Obama has increased taxes on the middle class. His campaign cites a 61-cents-a-pack cigarette tax Mr. Obama signed in 2009 to help pay for a children’s health insurance program, and the health care law, which starting in 2014 imposes a tax penalty on people who do not have insurance. But the law provides more in tax credits for households to buy coverage. And Mr. Obama has cut taxes for middle-income households and businesses in several stimulus measures. MEDICARE Both candidates agree that the health care program for older Americans, the single-biggest contributor to projected deficits, cannot continue growing at current rates. They disagree on how, and how much, to curb it. Mr. Romney favors shifting from the open-ended, fee-for-service Medicare program to one giving each beneficiary a fixed annual amount to buy private insurance or a Medicare option. He has not proposed what the amount of the voucherlike payments would be, so potential budget savings and impact on beneficiaries are impossible to judge. (Democrats’ assertion that future beneficiaries face average annual costs of $6,400 is based on analysis of a 2011 Medicare plan from Mr. Romney’s running mate, Representative Paul D. Ryan. Mr. Ryan, has since modified that plan in ways that make the estimate outdated.) Mr. Obama, who says Mr. Romney would “voucherize” the program, instead backs marginal changes, including lower payments to providers of health care like doctors and insurers. He has not specified further steps to keep Medicare solvent. Mr. Romney’s claim that Mr. Obama has taken $716 billion from Medicare benefits to pay for the health care law has been widely debunked. The cuts would affect those providing health care, not beneficiaries. The health law, in fact, expanded Medicare benefits. Mr. Ryan included identical savings in Republican budgets he passed in the House. JOBS Both candidates favor government action to stimulate growth and job creation — just different kinds. In the jobs bill he sent to Congress a year ago, Mr. Obama proposed temporary tax cuts but also more aid for struggling state and local governments to prevent further teacher layoffs; money for roads and other infrastructure projects; and federal investments in alternative energy, education and scientific research. Republicans blocked those proposals. Mr. Romney instead advocates cutting tax rates permanently to increase incentives for investment and hiring. He backs deep domestic spending cuts, saying they would clear the way for private market initiatives, but says he would phase in the reductions. While Mr. Romney says Mr. Obama “has not created jobs,” last week adjusted numbers from the Bureau of Labor Statistics indicated for the first time a net increase in jobs in the president’s term. Mr. Obama likes to count from early 2010, when monthly jobs reports started showing net growth, to claim more than five million jobs created. Mr. Romney counts from January 2009, though Mr. Obama took office at month’s end. Mr. Romney says he would create 12 million jobs in four years, though government and private forecasters predict that many jobs regardless of who is president.'\n",
    "\"\"\")"
   ]
  },
  {
   "cell_type": "code",
   "execution_count": 5,
   "metadata": {},
   "outputs": [
    {
     "name": "stdout",
     "output_type": "stream",
     "text": [
      "{'who', 'the', 'he', 'by', 'our', 'aren', 'his', 'once', 'below', 'no', 'which', 'while', 'am', 'most', 'needn', 'yourself', 'is', 'so', 'o', 'we', 'hasn', 'y', 'doing', 'being', 'from', 'as', 'again', 'couldn', 'didn', 'isn', 'ain', 'don', 'have', 'about', 'there', 'yours', 'during', 'other', 'ours', 'only', 'of', 'when', 'they', 'whom', 'won', 'what', 'very', 'through', 'and', 'such', 'further', 'can', 'them', 'few', 'with', 'some', 'just', 'theirs', 've', 'been', 'where', 'should', 'do', 'has', 'too', 'or', 'him', 'under', 'are', 'over', 'wouldn', 'more', 'ma', 'shan', 'then', 'an', 'because', 'wasn', 'these', 'will', 'into', 'in', 'but', 'down', 'than', 'a', 'any', 'same', 'this', 'all', 'himself', 'not', 'myself', 'own', 're', 'against', 'up', 'haven', 'now', 'she', 's', 'at', 'that', 'weren', 'shouldn', 'm', 'hers', 'it', 'did', 'itself', 'their', 'why', 'until', 'had', 'was', 'for', 'me', 'does', 'herself', 't', 'having', 'if', 'doesn', 'themselves', 'to', 'both', 'nor', 'each', 'how', 'off', 'my', 'your', 'between', 'you', 'above', 'on', 'yourselves', 'those', 'out', 'were', 'll', 'ourselves', 'mustn', 'its', 'be', 'hadn', 'here', 'd', 'her', 'i', 'after', 'before', 'mightn'}\n"
     ]
    }
   ],
   "source": [
    "stop_words = set(stopwords.words('english'))\n",
    "print(stop_words)"
   ]
  },
  {
   "cell_type": "code",
   "execution_count": 6,
   "metadata": {
    "collapsed": true
   },
   "outputs": [],
   "source": [
    "import re"
   ]
  },
  {
   "cell_type": "code",
   "execution_count": 7,
   "metadata": {
    "collapsed": true
   },
   "outputs": [],
   "source": [
    "createdpattern = \"\"\"\"created_at\":\"\"\"\n",
    "createdprog = re.compile(createdpattern)"
   ]
  },
  {
   "cell_type": "code",
   "execution_count": 72,
   "metadata": {
    "collapsed": true
   },
   "outputs": [],
   "source": [
    "datepattern = \"\"\"(Wed Oct 03|Thu Oct 04|Fri Oct 05|Sat Oct 06)\"\"\"\n",
    "#datepattern = \"\"\"Wed Oct 03\"\"\"\n",
    "dateprog = re.compile(datepattern)"
   ]
  },
  {
   "cell_type": "code",
   "execution_count": 107,
   "metadata": {
    "collapsed": true
   },
   "outputs": [],
   "source": [
    "textpattern = \"\"\"\"text\":\".*?\",\"retweeted_status\":\"\"\"\n",
    "textprog = re.compile(textpattern)"
   ]
  },
  {
   "cell_type": "code",
   "execution_count": 112,
   "metadata": {
    "collapsed": true
   },
   "outputs": [],
   "source": [
    "textpattern2 = '\"text\":\".*?\",\"'\n",
    "textprog2 = re.compile(textpattern2)"
   ]
  },
  {
   "cell_type": "code",
   "execution_count": 92,
   "metadata": {
    "collapsed": true
   },
   "outputs": [],
   "source": [
    "textpattern5 = \"\"\"(mitt|romney|barack|obama|election|debate|president)\"\"\"\n",
    "textprog5 = re.compile(textpattern5)"
   ]
  },
  {
   "cell_type": "code",
   "execution_count": 10,
   "metadata": {
    "scrolled": true
   },
   "outputs": [
    {
     "name": "stdout",
     "output_type": "stream",
     "text": [
      "<_sre.SRE_Match object; span=(5, 18), match='\"created_at\":'>\n"
     ]
    },
    {
     "data": {
      "text/plain": [
       "'Fri Oct 12 04:19:34 +0000 2012'"
      ]
     },
     "execution_count": 10,
     "metadata": {},
     "output_type": "execute_result"
    }
   ],
   "source": [
    "stringtheory = \"\"\"null,\"created_at\":\"Fri Oct 12 04:19:34 +0000 2012\",\"in_rep\"\"\"\n",
    "result = createdprog.search(stringtheory)\n",
    "print(result)\n",
    "end = int(result.end())\n",
    "stringtheory[end+1:end+31]\n"
   ]
  },
  {
   "cell_type": "code",
   "execution_count": 11,
   "metadata": {},
   "outputs": [
    {
     "name": "stdout",
     "output_type": "stream",
     "text": [
      "<_sre.SRE_Match object; span=(5, 104), match='\"text\":\"I just want to be rich enough to have Mor>\n"
     ]
    },
    {
     "data": {
      "text/plain": [
       "'I just want to be rich enough to have Morgan Freeman read me bedtime stories.'"
      ]
     },
     "execution_count": 11,
     "metadata": {},
     "output_type": "execute_result"
    }
   ],
   "source": [
    "stringtheory = \"\"\"us\":{\"text\":\"I just want to be rich enough to have Morgan Freeman read me bedtime stories.\",\"retweeted\":false,\"contributors\":nu\"\"\"\n",
    "result = textprog.search(stringtheory)\n",
    "print(result)\n",
    "start = int(result.start())\n",
    "end = int(result.end())\n",
    "stringtheory[start + 8:end - 14]\n",
    "#stringtheory[end+1:end+31]"
   ]
  },
  {
   "cell_type": "code",
   "execution_count": 29,
   "metadata": {},
   "outputs": [
    {
     "name": "stdout",
     "output_type": "stream",
     "text": [
      "hi\n"
     ]
    }
   ],
   "source": [
    "result = dateprog.search(stringtheory)\n",
    "if not result:\n",
    "    print('hi')"
   ]
  },
  {
   "cell_type": "code",
   "execution_count": 116,
   "metadata": {},
   "outputs": [
    {
     "ename": "KeyboardInterrupt",
     "evalue": "",
     "output_type": "error",
     "traceback": [
      "\u001b[0;31m---------------------------------------------------------------------------\u001b[0m",
      "\u001b[0;31mKeyboardInterrupt\u001b[0m                         Traceback (most recent call last)",
      "\u001b[0;32m<ipython-input-116-94d49a5a0a35>\u001b[0m in \u001b[0;36m<module>\u001b[0;34m()\u001b[0m\n\u001b[1;32m      2\u001b[0m     \u001b[0mz\u001b[0m \u001b[0;34m=\u001b[0m \u001b[0;36m0\u001b[0m\u001b[0;34m\u001b[0m\u001b[0m\n\u001b[1;32m      3\u001b[0m     \u001b[0;32mfor\u001b[0m \u001b[0mi\u001b[0m \u001b[0;32min\u001b[0m \u001b[0mrange\u001b[0m\u001b[0;34m(\u001b[0m\u001b[0;36m0\u001b[0m\u001b[0;34m,\u001b[0m\u001b[0;36m20000000\u001b[0m\u001b[0;34m)\u001b[0m\u001b[0;34m:\u001b[0m\u001b[0;34m\u001b[0m\u001b[0m\n\u001b[0;32m----> 4\u001b[0;31m         \u001b[0mhead\u001b[0m \u001b[0;34m=\u001b[0m \u001b[0;34m[\u001b[0m\u001b[0mnext\u001b[0m\u001b[0;34m(\u001b[0m\u001b[0mjsonfile\u001b[0m\u001b[0;34m)\u001b[0m \u001b[0;32mfor\u001b[0m \u001b[0mx\u001b[0m \u001b[0;32min\u001b[0m \u001b[0mrange\u001b[0m\u001b[0;34m(\u001b[0m\u001b[0;36m1\u001b[0m\u001b[0;34m)\u001b[0m\u001b[0;34m]\u001b[0m\u001b[0;34m\u001b[0m\u001b[0m\n\u001b[0m\u001b[1;32m      5\u001b[0m         \u001b[0mz\u001b[0m \u001b[0;34m=\u001b[0m \u001b[0mz\u001b[0m \u001b[0;34m+\u001b[0m \u001b[0;36m1\u001b[0m\u001b[0;34m\u001b[0m\u001b[0m\n\u001b[1;32m      6\u001b[0m         \u001b[0;32mif\u001b[0m \u001b[0mz\u001b[0m \u001b[0;34m>\u001b[0m \u001b[0;36m6000000\u001b[0m\u001b[0;34m:\u001b[0m\u001b[0;34m\u001b[0m\u001b[0m\n",
      "\u001b[0;32m<ipython-input-116-94d49a5a0a35>\u001b[0m in \u001b[0;36m<listcomp>\u001b[0;34m(.0)\u001b[0m\n\u001b[1;32m      2\u001b[0m     \u001b[0mz\u001b[0m \u001b[0;34m=\u001b[0m \u001b[0;36m0\u001b[0m\u001b[0;34m\u001b[0m\u001b[0m\n\u001b[1;32m      3\u001b[0m     \u001b[0;32mfor\u001b[0m \u001b[0mi\u001b[0m \u001b[0;32min\u001b[0m \u001b[0mrange\u001b[0m\u001b[0;34m(\u001b[0m\u001b[0;36m0\u001b[0m\u001b[0;34m,\u001b[0m\u001b[0;36m20000000\u001b[0m\u001b[0;34m)\u001b[0m\u001b[0;34m:\u001b[0m\u001b[0;34m\u001b[0m\u001b[0m\n\u001b[0;32m----> 4\u001b[0;31m         \u001b[0mhead\u001b[0m \u001b[0;34m=\u001b[0m \u001b[0;34m[\u001b[0m\u001b[0mnext\u001b[0m\u001b[0;34m(\u001b[0m\u001b[0mjsonfile\u001b[0m\u001b[0;34m)\u001b[0m \u001b[0;32mfor\u001b[0m \u001b[0mx\u001b[0m \u001b[0;32min\u001b[0m \u001b[0mrange\u001b[0m\u001b[0;34m(\u001b[0m\u001b[0;36m1\u001b[0m\u001b[0;34m)\u001b[0m\u001b[0;34m]\u001b[0m\u001b[0;34m\u001b[0m\u001b[0m\n\u001b[0m\u001b[1;32m      5\u001b[0m         \u001b[0mz\u001b[0m \u001b[0;34m=\u001b[0m \u001b[0mz\u001b[0m \u001b[0;34m+\u001b[0m \u001b[0;36m1\u001b[0m\u001b[0;34m\u001b[0m\u001b[0m\n\u001b[1;32m      6\u001b[0m         \u001b[0;32mif\u001b[0m \u001b[0mz\u001b[0m \u001b[0;34m>\u001b[0m \u001b[0;36m6000000\u001b[0m\u001b[0;34m:\u001b[0m\u001b[0;34m\u001b[0m\u001b[0m\n",
      "\u001b[0;32m/opt/conda/lib/python3.6/codecs.py\u001b[0m in \u001b[0;36mdecode\u001b[0;34m(self, input, final)\u001b[0m\n\u001b[1;32m    316\u001b[0m         \u001b[0;32mraise\u001b[0m \u001b[0mNotImplementedError\u001b[0m\u001b[0;34m\u001b[0m\u001b[0m\n\u001b[1;32m    317\u001b[0m \u001b[0;34m\u001b[0m\u001b[0m\n\u001b[0;32m--> 318\u001b[0;31m     \u001b[0;32mdef\u001b[0m \u001b[0mdecode\u001b[0m\u001b[0;34m(\u001b[0m\u001b[0mself\u001b[0m\u001b[0;34m,\u001b[0m \u001b[0minput\u001b[0m\u001b[0;34m,\u001b[0m \u001b[0mfinal\u001b[0m\u001b[0;34m=\u001b[0m\u001b[0;32mFalse\u001b[0m\u001b[0;34m)\u001b[0m\u001b[0;34m:\u001b[0m\u001b[0;34m\u001b[0m\u001b[0m\n\u001b[0m\u001b[1;32m    319\u001b[0m         \u001b[0;31m# decode input (taking the buffer into account)\u001b[0m\u001b[0;34m\u001b[0m\u001b[0;34m\u001b[0m\u001b[0m\n\u001b[1;32m    320\u001b[0m         \u001b[0mdata\u001b[0m \u001b[0;34m=\u001b[0m \u001b[0mself\u001b[0m\u001b[0;34m.\u001b[0m\u001b[0mbuffer\u001b[0m \u001b[0;34m+\u001b[0m \u001b[0minput\u001b[0m\u001b[0;34m\u001b[0m\u001b[0m\n",
      "\u001b[0;31mKeyboardInterrupt\u001b[0m: "
     ]
    }
   ],
   "source": [
    "with open(\"large-4.json\") as jsonfile:\n",
    "    z = 0\n",
    "    for i in range(0,20000000):\n",
    "        head = [next(jsonfile) for x in range(1)]\n",
    "        z = z + 1\n",
    "        strhead = str(head)\n",
    "        result = createdprog.search(strhead)\n",
    "        if result:\n",
    "            end = int(result.end())\n",
    "            dat = strhead[end+1:end+31]\n",
    "            result = dateprog.search(dat)\n",
    "            if result:\n",
    "                strhead = strhead.lower()\n",
    "                text = textprog5.search(strhead)\n",
    "                if text:\n",
    "                    text = textprog.search(strhead)\n",
    "                    if text:\n",
    "                        start = int(text.start())\n",
    "                        end = int(text.end())\n",
    "                        theText = strhead[start + 8:end - 21]\n",
    "                    else:\n",
    "                        text = textprog2.search(strhead)\n",
    "                        if text:\n",
    "                            start = int(text.start())\n",
    "                            end = int(text.end())\n",
    "                            theText = strhead[start + 8:end - 3]\n",
    "                    theText = textprog5.search(theText)\n",
    "                    if theText:\n",
    "                        print(theText)\n",
    "                        print(dat)\n",
    "                        print(z)\n",
    "\n",
    "        \n",
    "        \n"
   ]
  },
  {
   "cell_type": "code",
   "execution_count": null,
   "metadata": {
    "collapsed": true
   },
   "outputs": [],
   "source": []
  }
 ],
 "metadata": {
  "kernelspec": {
   "display_name": "Python 3",
   "language": "python",
   "name": "python3"
  },
  "language_info": {
   "codemirror_mode": {
    "name": "ipython",
    "version": 3
   },
   "file_extension": ".py",
   "mimetype": "text/x-python",
   "name": "python",
   "nbconvert_exporter": "python",
   "pygments_lexer": "ipython3",
   "version": "3.6.2"
  }
 },
 "nbformat": 4,
 "nbformat_minor": 2
}
